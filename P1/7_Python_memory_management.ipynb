{
 "cells": [
  {
   "cell_type": "markdown",
   "metadata": {},
   "source": [
    "## Python memory management and optimization\n",
    "1. copy and deepcopy\n",
    "2. size of object\n",
    "3. id, ===, is\n",
    "4. pandas memory optimization"
   ]
  },
  {
   "cell_type": "code",
   "execution_count": 37,
   "metadata": {},
   "outputs": [],
   "source": [
    "import copy\n",
    "import numpy as np\n",
    "import pandas as pd\n",
    "import sys\n",
    "import time"
   ]
  },
  {
   "cell_type": "markdown",
   "metadata": {},
   "source": [
    "### 1. copy and deepcopy"
   ]
  },
  {
   "cell_type": "code",
   "execution_count": 46,
   "metadata": {},
   "outputs": [
    {
     "name": "stdout",
     "output_type": "stream",
     "text": [
      "a is [1, 2, 3, 1] and b is [1, 2, 3, 1]\n",
      "a is {'a': 1, 'b': 2, 'c': 2} and b is {'a': 1, 'b': 2, 'c': 2}\n",
      "a_nd[0] is 1000 and b_nd[0] is 1000\n",
      "a_df is 100 and b_df is 100\n",
      "a is abcd and b is abc\n",
      "a is 11 and b is 10\n",
      "a is False and b is True\n",
      "a is {'a'} and b is {'a', 'b', 'c'}\n"
     ]
    }
   ],
   "source": [
    "# !!! list\n",
    "a = [1, 2, 3]\n",
    "b = a\n",
    "a += [1]\n",
    "print('a is {0} and b is {1}'.format(a, b))\n",
    "\n",
    "# !!!! dict\n",
    "a = {'a': 1, 'b': 2}\n",
    "b = a\n",
    "a['c'] = 2\n",
    "print('a is {0} and b is {1}'.format(a, b))\n",
    "\n",
    "# array !!!\n",
    "a_nd = np.arange(1, 10000)\n",
    "b_nd = a_nd\n",
    "a_nd[0] = 1000\n",
    "print('a_nd[0] is {0} and b_nd[0] is {1}'.format(a_nd[0], b_nd[0]))\n",
    "\n",
    "# pandas !!!\n",
    "a_df = pd.DataFrame({'a':[1, 2, 3], 'b':[2, 3, 4]})\n",
    "b_df = a_df\n",
    "a_df.iloc[0, 0] = 100\n",
    "print('a_df is {0} and b_df is {1}'.format(a_df.iloc[0, 0], b_df.iloc[0, 0]))\n",
    "\n",
    "# str\n",
    "a = 'abc'\n",
    "b = a\n",
    "a += 'd'\n",
    "print('a is {0} and b is {1}'.format(a, b))\n",
    "\n",
    "# int&float\n",
    "a = 10\n",
    "b = a\n",
    "a += 1\n",
    "print('a is {0} and b is {1}'.format(a, b))\n",
    "\n",
    "# bool\n",
    "a = True\n",
    "b = a\n",
    "a = not a\n",
    "print('a is {0} and b is {1}'.format(a, b))\n",
    "\n",
    "# set\n",
    "a = set('abc')\n",
    "b = a\n",
    "a = a&set('a')\n",
    "print('a is {0} and b is {1}'.format(a, b))"
   ]
  },
  {
   "cell_type": "code",
   "execution_count": 29,
   "metadata": {},
   "outputs": [
    {
     "name": "stdout",
     "output_type": "stream",
     "text": [
      "a is [1, 2, 3, 3] and b is [1, 2, 3]\n"
     ]
    }
   ],
   "source": [
    "a = [1, 2, 3]\n",
    "b = copy.deepcopy(a)\n",
    "a.append(3)\n",
    "print('a is {0} and b is {1}'.format(a, b))"
   ]
  },
  {
   "cell_type": "markdown",
   "metadata": {},
   "source": [
    "### 2. size of object"
   ]
  },
  {
   "cell_type": "code",
   "execution_count": 64,
   "metadata": {},
   "outputs": [
    {
     "name": "stdout",
     "output_type": "stream",
     "text": [
      "size of list 912\n",
      "size of tuple 88\n",
      "size of dict 240\n",
      "size of array 496\n",
      "size of df_array 504\n",
      "size of df_tuple 904\n"
     ]
    }
   ],
   "source": [
    "a_list = [i for i in range(100)]\n",
    "a_tuple = (i for i in range(100))\n",
    "a_dict = {'a':a_tuple}\n",
    "a_array = np.arange(100)\n",
    "a_df_array = pd.DataFrame(a_array)\n",
    "a_df_tuple = pd.DataFrame(a_tuple)\n",
    "print('size of list {}'.format(sys.getsizeof(a_list)))\n",
    "print('size of tuple {}'.format(sys.getsizeof(a_tuple)))\n",
    "print('size of dict {}'.format(sys.getsizeof(a_dict)))\n",
    "print('size of array {}'.format(sys.getsizeof(a_array)))\n",
    "print('size of df_array {}'.format(sys.getsizeof(a_df_array)))\n",
    "print('size of df_tuple {}'.format(sys.getsizeof(a_df_tuple)))"
   ]
  },
  {
   "cell_type": "markdown",
   "metadata": {},
   "source": [
    "### id, ===, is"
   ]
  },
  {
   "cell_type": "markdown",
   "metadata": {},
   "source": [
    "* True False 0 1"
   ]
  },
  {
   "cell_type": "code",
   "execution_count": 212,
   "metadata": {},
   "outputs": [
    {
     "name": "stdout",
     "output_type": "stream",
     "text": [
      "int(True) 1\n",
      "int(False) 0\n",
      "True is 1 False\n",
      "True == 1 True\n"
     ]
    }
   ],
   "source": [
    "print('int(True)', int(True))\n",
    "print('int(False)', int(False))\n",
    "print('True is 1', True is 1)\n",
    "print('True == 1', True == 1)"
   ]
  },
  {
   "cell_type": "markdown",
   "metadata": {},
   "source": [
    "* None, np.nan !!!"
   ]
  },
  {
   "cell_type": "code",
   "execution_count": 68,
   "metadata": {},
   "outputs": [
    {
     "name": "stdout",
     "output_type": "stream",
     "text": [
      "None == None True\n",
      "None is None True\n",
      "np.nan == np.nan False\n",
      "np.nan is np.nan False\n"
     ]
    }
   ],
   "source": [
    "print('None == None', None == None)\n",
    "print('None is None', None is None)\n",
    "print('np.nan == np.nan', np.nan == np.nan)\n",
    "print('np.nan is np.nan', np.nan == np.nan)"
   ]
  },
  {
   "cell_type": "code",
   "execution_count": 290,
   "metadata": {},
   "outputs": [
    {
     "name": "stdout",
     "output_type": "stream",
     "text": [
      "id(a) 77496112\n",
      "id(b) 77496112\n",
      "True\n",
      "False\n"
     ]
    }
   ],
   "source": [
    "a = np.nan # None\n",
    "b = np.nan # None\n",
    "print('id(a)', id(a))\n",
    "print('id(b)', id(b))\n",
    "print(a is b)\n",
    "print(a == b)"
   ]
  },
  {
   "cell_type": "markdown",
   "metadata": {},
   "source": [
    "* int !!!"
   ]
  },
  {
   "cell_type": "code",
   "execution_count": 214,
   "metadata": {},
   "outputs": [
    {
     "name": "stdout",
     "output_type": "stream",
     "text": [
      "id(a) 1783852096\n",
      "id(b) 1783852096\n",
      "True\n",
      "True\n"
     ]
    }
   ],
   "source": [
    "a = 1\n",
    "b = 1\n",
    "print('id(a)', id(a))\n",
    "print('id(b)', id(b))\n",
    "print(a is b)\n",
    "print(a == b)"
   ]
  },
  {
   "cell_type": "markdown",
   "metadata": {},
   "source": [
    "* short str and long str !!!"
   ]
  },
  {
   "cell_type": "code",
   "execution_count": 208,
   "metadata": {},
   "outputs": [
    {
     "name": "stdout",
     "output_type": "stream",
     "text": [
      "id(a) 129505632\n",
      "id(b) 129505632\n",
      "True\n",
      "True\n",
      "id(a) 134536816\n",
      "id(b) 134536816\n",
      "True\n",
      "True\n",
      "id(a) 134536880\n",
      "id(b) 131965936\n",
      "False\n",
      "True\n"
     ]
    }
   ],
   "source": [
    "a = 'xxxx'\n",
    "b = 'xxxx'\n",
    "print('id(a)', id(a))\n",
    "print('id(b)', id(b))\n",
    "print(a is b)\n",
    "print(a == b)\n",
    "\n",
    "a = 'xxxxxxxxxxxxxxx'\n",
    "b = 'xxxxxxxxxxxxxxx'\n",
    "print('id(a)', id(a))\n",
    "print('id(b)', id(b))\n",
    "print(a is b)\n",
    "print(a == b)\n",
    "\n",
    "# have space or not\n",
    "a = 'xxxxx xxxxxxxxx'\n",
    "b = 'xxxxx xxxxxxxxx'\n",
    "print('id(a)', id(a))\n",
    "print('id(b)', id(b))\n",
    "print(a is b)\n",
    "print(a == b)"
   ]
  },
  {
   "cell_type": "markdown",
   "metadata": {},
   "source": [
    "* list"
   ]
  },
  {
   "cell_type": "code",
   "execution_count": 178,
   "metadata": {},
   "outputs": [
    {
     "name": "stdout",
     "output_type": "stream",
     "text": [
      "id(a) 134417608\n",
      "id(b) 134441992\n",
      "False\n",
      "True\n"
     ]
    }
   ],
   "source": [
    "a = [1, 2, 3]\n",
    "b = [1, 2, 3]\n",
    "print('id(a)', id(a))\n",
    "print('id(b)', id(b))\n",
    "print(a is b)\n",
    "print(a == b)"
   ]
  },
  {
   "cell_type": "markdown",
   "metadata": {},
   "source": [
    "* tuple"
   ]
  },
  {
   "cell_type": "code",
   "execution_count": 181,
   "metadata": {},
   "outputs": [
    {
     "name": "stdout",
     "output_type": "stream",
     "text": [
      "id(a) 133974704\n",
      "id(b) 134484760\n",
      "False\n",
      "True\n"
     ]
    }
   ],
   "source": [
    "a = (1, 2, 3)\n",
    "b = (1, 2, 3)\n",
    "print('id(a)', id(a))\n",
    "print('id(b)', id(b))\n",
    "print(a is b)\n",
    "print(a == b)"
   ]
  },
  {
   "cell_type": "markdown",
   "metadata": {},
   "source": [
    "* dict"
   ]
  },
  {
   "cell_type": "code",
   "execution_count": 182,
   "metadata": {},
   "outputs": [
    {
     "name": "stdout",
     "output_type": "stream",
     "text": [
      "id(a) 134462920\n",
      "id(b) 134431656\n",
      "False\n",
      "True\n"
     ]
    }
   ],
   "source": [
    "a = {'a': [1, 2, 3]}\n",
    "b = {'a': [1, 2, 3]}\n",
    "print('id(a)', id(a))\n",
    "print('id(b)', id(b))\n",
    "print(a is b)\n",
    "print(a == b)"
   ]
  },
  {
   "cell_type": "markdown",
   "metadata": {},
   "source": [
    "* numpy"
   ]
  },
  {
   "cell_type": "code",
   "execution_count": 304,
   "metadata": {},
   "outputs": [
    {
     "name": "stdout",
     "output_type": "stream",
     "text": [
      "id(a) 136231472\n",
      "id(b) 136475872\n",
      "False\n",
      "[ True  True  True]\n",
      "True\n",
      "False\n"
     ]
    }
   ],
   "source": [
    "a = np.array([1, 2, 3])\n",
    "b = np.array([1, 2, 3])\n",
    "print('id(a)', id(a))\n",
    "print('id(b)', id(b))\n",
    "print(a is b)\n",
    "print(a == b)\n",
    "a = np.array([1, 2, 5])\n",
    "print(any(a == b))\n",
    "print(all(a == b))"
   ]
  },
  {
   "cell_type": "markdown",
   "metadata": {},
   "source": [
    "* pandas"
   ]
  },
  {
   "cell_type": "code",
   "execution_count": 314,
   "metadata": {},
   "outputs": [
    {
     "name": "stdout",
     "output_type": "stream",
     "text": [
      "id(a) 137092064\n",
      "id(b) 136833344\n",
      "False\n",
      "      a     b\n",
      "0  True  True\n",
      "1  True  True\n",
      "2  True  True\n",
      "True\n",
      "False\n"
     ]
    }
   ],
   "source": [
    "a = pd.DataFrame({'a': [1, 2, 3], 'b': [2, 3, 4]})\n",
    "b = pd.DataFrame({'a': [1, 2, 3], 'b': [2, 3, 4]})\n",
    "print('id(a)', id(a))\n",
    "print('id(b)', id(b))\n",
    "print(a is b)\n",
    "print(a == b)\n",
    "a.iloc[0, 0] = 4\n",
    "print(any((a == b)['a']))\n",
    "print(all((a == b)['a']))"
   ]
  },
  {
   "cell_type": "markdown",
   "metadata": {},
   "source": [
    "### 3. pandas memory optimization"
   ]
  },
  {
   "cell_type": "code",
   "execution_count": 438,
   "metadata": {
    "scrolled": true
   },
   "outputs": [
    {
     "name": "stdout",
     "output_type": "stream",
     "text": [
      "          a         b  c object      date\n",
      "0  0.015838  0.871382  2     c8  19900817\n",
      "1  0.186315  0.786299  1     c5  19900818\n",
      "2  0.174347  0.601800  3    c11  19900819\n",
      "3  0.620698  0.407065  3    c14  19900820\n",
      "4  0.833957  0.685612  0    c12  19900821 \n",
      "\n",
      "<class 'pandas.core.frame.DataFrame'>\n",
      "RangeIndex: 10000 entries, 0 to 9999\n",
      "Data columns (total 5 columns):\n",
      "a         10000 non-null float64\n",
      "b         10000 non-null float64\n",
      "c         10000 non-null int32\n",
      "object    10000 non-null object\n",
      "date      10000 non-null int64\n",
      "dtypes: float64(2), int32(1), int64(1), object(1)\n",
      "memory usage: 854.6 KB\n"
     ]
    }
   ],
   "source": [
    "# generate fake int, float data\n",
    "df = pd.DataFrame({'a': np.random.random(10000), 'b': np.random.random(10000), 'c': np.random.randint(0, 10, 10000)})\n",
    "# generate fake object data\n",
    "obj_f = lambda x: 'c' + str(x)\n",
    "obj_random = np.random.randint(0, 20, 10000)\n",
    "vfunc = np.vectorize(obj_f)\n",
    "obj_data = vfunc(obj_random)\n",
    "df['object'] = obj_data\n",
    "# generate fake time series data\n",
    "time_data = pd.date_range('1990-08-17', '2018-01-01').map(lambda x: int(''.join(str(x)[:10].split('-'))))\n",
    "df['date'] = time_data\n",
    "print(df.head(), '\\n')\n",
    "df.info(memory_usage='deep')"
   ]
  },
  {
   "cell_type": "code",
   "execution_count": 441,
   "metadata": {
    "scrolled": false
   },
   "outputs": [
    {
     "name": "stdout",
     "output_type": "stream",
     "text": [
      "int opt\n",
      "<class 'pandas.core.frame.DataFrame'>\n",
      "RangeIndex: 10000 entries, 0 to 9999\n",
      "Data columns (total 1 columns):\n",
      "c    10000 non-null uint8\n",
      "dtypes: uint8(1)\n",
      "memory usage: 9.8 KB\n",
      "int\n",
      "<class 'pandas.core.frame.DataFrame'>\n",
      "RangeIndex: 10000 entries, 0 to 9999\n",
      "Data columns (total 1 columns):\n",
      "c    10000 non-null int32\n",
      "dtypes: int32(1)\n",
      "memory usage: 39.1 KB\n",
      "\n",
      "float opt\n",
      "<class 'pandas.core.frame.DataFrame'>\n",
      "RangeIndex: 10000 entries, 0 to 9999\n",
      "Data columns (total 2 columns):\n",
      "a    10000 non-null float32\n",
      "b    10000 non-null float32\n",
      "dtypes: float32(2)\n",
      "memory usage: 78.2 KB\n",
      "float\n",
      "<class 'pandas.core.frame.DataFrame'>\n",
      "RangeIndex: 10000 entries, 0 to 9999\n",
      "Data columns (total 2 columns):\n",
      "a    10000 non-null float64\n",
      "b    10000 non-null float64\n",
      "dtypes: float64(2)\n",
      "memory usage: 156.3 KB\n",
      "\n",
      "object opt\n",
      "<class 'pandas.core.frame.DataFrame'>\n",
      "RangeIndex: 10000 entries, 0 to 9999\n",
      "Data columns (total 1 columns):\n",
      "object    10000 non-null category\n",
      "dtypes: category(1)\n",
      "memory usage: 11.6 KB\n",
      "object\n",
      "<class 'pandas.core.frame.DataFrame'>\n",
      "RangeIndex: 10000 entries, 0 to 9999\n",
      "Data columns (total 1 columns):\n",
      "object    10000 non-null object\n",
      "dtypes: object(1)\n",
      "memory usage: 581.2 KB\n",
      "\n",
      "time opt\n",
      "<class 'pandas.core.frame.DataFrame'>\n",
      "RangeIndex: 10000 entries, 0 to 9999\n",
      "Data columns (total 1 columns):\n",
      "date    10000 non-null datetime64[ns]\n",
      "dtypes: datetime64[ns](1)\n",
      "memory usage: 78.2 KB\n",
      "time\n",
      "<class 'pandas.core.frame.DataFrame'>\n",
      "RangeIndex: 10000 entries, 0 to 9999\n",
      "Data columns (total 1 columns):\n",
      "date    10000 non-null int64\n",
      "dtypes: int64(1)\n",
      "memory usage: 78.2 KB\n",
      "\n",
      "<class 'pandas.core.frame.DataFrame'>\n",
      "RangeIndex: 10000 entries, 0 to 9999\n",
      "Data columns (total 5 columns):\n",
      "date      10000 non-null datetime64[ns]\n",
      "c         10000 non-null uint8\n",
      "a         10000 non-null float32\n",
      "b         10000 non-null float32\n",
      "object    10000 non-null category\n",
      "dtypes: category(1), datetime64[ns](1), float32(2), uint8(1)\n",
      "memory usage: 177.6 KB\n"
     ]
    },
    {
     "data": {
      "text/html": [
       "<div>\n",
       "<style scoped>\n",
       "    .dataframe tbody tr th:only-of-type {\n",
       "        vertical-align: middle;\n",
       "    }\n",
       "\n",
       "    .dataframe tbody tr th {\n",
       "        vertical-align: top;\n",
       "    }\n",
       "\n",
       "    .dataframe thead th {\n",
       "        text-align: right;\n",
       "    }\n",
       "</style>\n",
       "<table border=\"1\" class=\"dataframe\">\n",
       "  <thead>\n",
       "    <tr style=\"text-align: right;\">\n",
       "      <th></th>\n",
       "      <th>date</th>\n",
       "      <th>c</th>\n",
       "      <th>a</th>\n",
       "      <th>b</th>\n",
       "      <th>object</th>\n",
       "    </tr>\n",
       "  </thead>\n",
       "  <tbody>\n",
       "    <tr>\n",
       "      <th>0</th>\n",
       "      <td>1990-08-17</td>\n",
       "      <td>2</td>\n",
       "      <td>0.015838</td>\n",
       "      <td>0.871382</td>\n",
       "      <td>c8</td>\n",
       "    </tr>\n",
       "    <tr>\n",
       "      <th>1</th>\n",
       "      <td>1990-08-18</td>\n",
       "      <td>1</td>\n",
       "      <td>0.186315</td>\n",
       "      <td>0.786299</td>\n",
       "      <td>c5</td>\n",
       "    </tr>\n",
       "    <tr>\n",
       "      <th>2</th>\n",
       "      <td>1990-08-19</td>\n",
       "      <td>3</td>\n",
       "      <td>0.174347</td>\n",
       "      <td>0.601800</td>\n",
       "      <td>c11</td>\n",
       "    </tr>\n",
       "    <tr>\n",
       "      <th>3</th>\n",
       "      <td>1990-08-20</td>\n",
       "      <td>3</td>\n",
       "      <td>0.620698</td>\n",
       "      <td>0.407065</td>\n",
       "      <td>c14</td>\n",
       "    </tr>\n",
       "    <tr>\n",
       "      <th>4</th>\n",
       "      <td>1990-08-21</td>\n",
       "      <td>0</td>\n",
       "      <td>0.833957</td>\n",
       "      <td>0.685612</td>\n",
       "      <td>c12</td>\n",
       "    </tr>\n",
       "  </tbody>\n",
       "</table>\n",
       "</div>"
      ],
      "text/plain": [
       "        date  c         a         b object\n",
       "0 1990-08-17  2  0.015838  0.871382     c8\n",
       "1 1990-08-18  1  0.186315  0.786299     c5\n",
       "2 1990-08-19  3  0.174347  0.601800    c11\n",
       "3 1990-08-20  3  0.620698  0.407065    c14\n",
       "4 1990-08-21  0  0.833957  0.685612    c12"
      ]
     },
     "execution_count": 441,
     "metadata": {},
     "output_type": "execute_result"
    }
   ],
   "source": [
    "# save memory for integer columns\n",
    "df_int_columns = df.select_dtypes(include = ['int'])\n",
    "# downcast to unsigned\n",
    "df_int_columns = df_int_columns.apply(pd.to_numeric, downcast = 'unsigned')\n",
    "print('int opt')\n",
    "df_int_columns.info(memory_usage='deep')\n",
    "print('int')\n",
    "df[['c']].info(memory_usage = 'deep')\n",
    "print()\n",
    "\n",
    "# save memory for float columns\n",
    "df_float_columns = df.select_dtypes(include = ['float'])\n",
    "# downside to float\n",
    "df_float_columns = df_float_columns.apply(pd.to_numeric, downcast = 'float')\n",
    "print('float opt')\n",
    "df_float_columns.info(memory_usage = 'deep')\n",
    "print('float')\n",
    "df[['a','b']].info(memory_usage = 'deep')\n",
    "print()\n",
    "\n",
    "# save memory for object columns\n",
    "# recommande to use this method when unique > 50%\n",
    "df_obj_columns = df.select_dtypes(include=['object'])\n",
    "df_obj_columns.describe()\n",
    "# if unique is not big number，change to category type\n",
    "df_obj_columns = df_obj_columns.astype('category')\n",
    "print('object opt')\n",
    "df_obj_columns.info(memory_usage = 'deep')\n",
    "print('object')\n",
    "df[['object']].info(memory_usage = 'deep')\n",
    "print()\n",
    "\n",
    "# time data to datetime\n",
    "df_time_columns = pd.to_datetime(df['date'], format=\"%Y%m%d\").to_frame('date')\n",
    "print('time opt')\n",
    "df_time_columns.info(memory_usage = 'deep')\n",
    "print('time')\n",
    "df[['date']].info(memory_usage = 'deep')\n",
    "print()\n",
    "\n",
    "# concat to original\n",
    "new_df = pd.concat([df_time_columns, df_int_columns, df_float_columns, df_obj_columns], axis = 1)\n",
    "new_df.info(memory_usage='deep')\n",
    "new_df.head(5)"
   ]
  }
 ],
 "metadata": {
  "kernelspec": {
   "display_name": "Python 3",
   "language": "python",
   "name": "python3"
  },
  "language_info": {
   "codemirror_mode": {
    "name": "ipython",
    "version": 3
   },
   "file_extension": ".py",
   "mimetype": "text/x-python",
   "name": "python",
   "nbconvert_exporter": "python",
   "pygments_lexer": "ipython3",
   "version": "3.6.5"
  }
 },
 "nbformat": 4,
 "nbformat_minor": 2
}
