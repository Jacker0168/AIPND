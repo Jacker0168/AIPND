{
 "cells": [
  {
   "cell_type": "markdown",
   "metadata": {},
   "source": [
    "## Introduction"
   ]
  },
  {
   "cell_type": "markdown",
   "metadata": {},
   "source": [
    "* 了解对象\n",
    "* 了解实例\n",
    "* 了解属性\n",
    "* 了解方法\n",
    "* 会编写简单的类\n",
    "* 会调用类方法和类属性"
   ]
  },
  {
   "cell_type": "code",
   "execution_count": 1,
   "metadata": {},
   "outputs": [
    {
     "data": {
      "text/plain": [
       "True"
      ]
     },
     "execution_count": 1,
     "metadata": {},
     "output_type": "execute_result"
    }
   ],
   "source": [
    "from collections import Iterable\n",
    "isinstance('abc',Iterable)"
   ]
  },
  {
   "cell_type": "code",
   "execution_count": 2,
   "metadata": {},
   "outputs": [],
   "source": [
    "class MyCount(object):\n",
    "    # initialization\n",
    "    def __init__(self, data):\n",
    "        if isinstance(data, Iterable) == True:\n",
    "            self.data = data\n",
    "        else:\n",
    "            print('Wrong Input')\n",
    "    @property\n",
    "    def result(self):\n",
    "        category = list(set(self.data))\n",
    "        count = [self.data.count(i) for i in category]\n",
    "        count_result = dict(zip(category, count))\n",
    "        return count_result"
   ]
  },
  {
   "cell_type": "code",
   "execution_count": 3,
   "metadata": {},
   "outputs": [
    {
     "name": "stdout",
     "output_type": "stream",
     "text": [
      "{'c5': 2, 'c4': 1, 'c3': 1}\n",
      "['c3', 'c4', 'c5', 'c5']\n"
     ]
    }
   ],
   "source": [
    "Test = MyCount(['c'+str(i) for i in [3,4,5]] + ['c5'])\n",
    "print(Test.result)\n",
    "print(Test.data)"
   ]
  },
  {
   "cell_type": "markdown",
   "metadata": {},
   "source": [
    "## More"
   ]
  },
  {
   "cell_type": "code",
   "execution_count": 4,
   "metadata": {},
   "outputs": [],
   "source": [
    "class MyCount_plus(MyCount):\n",
    "    def __init__(self, data):\n",
    "        super().__init__(data)\n",
    "        if len(data) == 0:\n",
    "            print('Wrong input, data is empty')\n",
    "    def run(self, chunk = 2):\n",
    "        if type(self.data[0]) in [float, int]:\n",
    "            data = sorted(self.data)\n",
    "            step = (max(data) - min(data))/chunk\n",
    "            chunk_list = [min(data)+i*step for i in range(chunk)] + [max(data)]\n",
    "            result = []\n",
    "            for start,end in zip(chunk_list[:-1], chunk_list[1:]):\n",
    "                 result.append(len(list(filter(lambda x: x>=start and x<end, data))))\n",
    "            return dict(zip(zip(chunk_list[:-1], chunk_list[1:]), result))\n",
    "        else:\n",
    "            return super().result"
   ]
  },
  {
   "cell_type": "code",
   "execution_count": 5,
   "metadata": {},
   "outputs": [
    {
     "name": "stdout",
     "output_type": "stream",
     "text": [
      "{'c5': 2, 'c4': 1, 'c3': 1}\n",
      "{(1.0, 3.0): 2, (3.0, 5): 2}\n"
     ]
    }
   ],
   "source": [
    "Test_plus = MyCount_plus(['c'+str(i) for i in [3,4,5]] + ['c5'])\n",
    "print(Test_plus.run())\n",
    "Test_plus_num = MyCount_plus([1, 2, 3, 4, 5])\n",
    "print(Test_plus_num.run(2))"
   ]
  },
  {
   "cell_type": "code",
   "execution_count": 6,
   "metadata": {},
   "outputs": [],
   "source": [
    "class Stat(object):\n",
    "    def ___init__(self, data):\n",
    "        self.data = data\n",
    "    def mean(self):\n",
    "        import numpy as np\n",
    "        return np.mean(self.data)"
   ]
  },
  {
   "cell_type": "code",
   "execution_count": 7,
   "metadata": {},
   "outputs": [],
   "source": [
    "class Analysis(MyCount_plus, Stat):\n",
    "    def __init__(self, data):\n",
    "        super().__init__(data)\n",
    "    def run(self):\n",
    "        return super().run(), super().mean()"
   ]
  },
  {
   "cell_type": "code",
   "execution_count": 8,
   "metadata": {},
   "outputs": [
    {
     "data": {
      "text/plain": [
       "({(1.0, 3.0): 2, (3.0, 5): 2}, 3.0)"
      ]
     },
     "execution_count": 8,
     "metadata": {},
     "output_type": "execute_result"
    }
   ],
   "source": [
    "Test_analysis = Analysis([1, 2, 3, 4, 5])\n",
    "Test_analysis.run()"
   ]
  }
 ],
 "metadata": {
  "kernelspec": {
   "display_name": "Python 3",
   "language": "python",
   "name": "python3"
  },
  "language_info": {
   "codemirror_mode": {
    "name": "ipython",
    "version": 3
   },
   "file_extension": ".py",
   "mimetype": "text/x-python",
   "name": "python",
   "nbconvert_exporter": "python",
   "pygments_lexer": "ipython3",
   "version": "3.6.5"
  }
 },
 "nbformat": 4,
 "nbformat_minor": 2
}
