{
 "cells": [
  {
   "cell_type": "markdown",
   "metadata": {},
   "source": [
    "## Example for Multi-threading"
   ]
  },
  {
   "cell_type": "code",
   "execution_count": 1,
   "metadata": {},
   "outputs": [],
   "source": [
    "import threading\n",
    "import time\n",
    "import datetime as dt\n",
    "import queue"
   ]
  },
  {
   "cell_type": "markdown",
   "metadata": {},
   "source": [
    "### No Threading"
   ]
  },
  {
   "cell_type": "code",
   "execution_count": 4,
   "metadata": {},
   "outputs": [],
   "source": [
    "Alldata = [1, 2, 3, 4, 5]"
   ]
  },
  {
   "cell_type": "code",
   "execution_count": 5,
   "metadata": {},
   "outputs": [],
   "source": [
    "def algo(data, time_sleep):\n",
    "    data += 1\n",
    "    time.sleep(time_sleep)\n",
    "    return data"
   ]
  },
  {
   "cell_type": "code",
   "execution_count": 6,
   "metadata": {},
   "outputs": [
    {
     "name": "stdout",
     "output_type": "stream",
     "text": [
      "Time taken: 15.034733295440674\n",
      "Result 1: [2, 3, 4, 5, 6]\n"
     ]
    }
   ],
   "source": [
    "result1 = []\n",
    "start = time.time()\n",
    "for i in Alldata:\n",
    "    result1.append(algo(i, 3))\n",
    "end = time.time()\n",
    "print('Time taken: {}'.format(end - start))\n",
    "print('Result 1: {}'.format(result1))"
   ]
  },
  {
   "cell_type": "markdown",
   "metadata": {},
   "source": [
    "### Threading"
   ]
  },
  {
   "cell_type": "code",
   "execution_count": 7,
   "metadata": {},
   "outputs": [
    {
     "name": "stdout",
     "output_type": "stream",
     "text": [
      "Time taken: 3.0161032676696777\n",
      "Result 2: []\n"
     ]
    }
   ],
   "source": [
    "result2 = []\n",
    "threads_list = []\n",
    "start = time.time()\n",
    "for i in Alldata:\n",
    "    t = threading.Thread(target = algo, name = 'thread{}'.format(i), args = (i, 3))\n",
    "    threads_list.append(t)\n",
    "    t.start()\n",
    "for t in threads_list:\n",
    "    t.join()\n",
    "end = time.time()\n",
    "print('Time taken: {}'.format(end - start))\n",
    "print('Result 2: {}'.format(result2))"
   ]
  },
  {
   "cell_type": "markdown",
   "metadata": {},
   "source": [
    "### Get Result\n",
    "* daemon = True, when main thread finish, this thread also will be finished."
   ]
  },
  {
   "cell_type": "code",
   "execution_count": 8,
   "metadata": {},
   "outputs": [
    {
     "name": "stdout",
     "output_type": "stream",
     "text": [
      "Time taken: 3.02243971824646\n",
      "Result 2: [2, 3, 4, 5, 6]\n"
     ]
    }
   ],
   "source": [
    "result3 = []\n",
    "que = queue.Queue()\n",
    "threads_list = list()\n",
    "\n",
    "start = time.time()\n",
    "\n",
    "for i in Alldata:\n",
    "    t = threading.Thread(target = lambda q, arg1, arg2: q.put(algo(arg1, arg2)), args = (que, i, 3))\n",
    "    t.start()\n",
    "    threads_list.append(t)\n",
    "# Join all the threads\n",
    "for t in threads_list:\n",
    "    t.join()\n",
    "# Check thread's return value\n",
    "while not que.empty():\n",
    "    result = que.get()\n",
    "    result3.append(result)\n",
    "    \n",
    "end = time.time()\n",
    "\n",
    "print('Time taken: {}'.format(end - start))\n",
    "print('Result 2: {}'.format(result3))"
   ]
  },
  {
   "cell_type": "markdown",
   "metadata": {},
   "source": [
    "### Locking"
   ]
  },
  {
   "cell_type": "code",
   "execution_count": 66,
   "metadata": {},
   "outputs": [],
   "source": [
    "lo = threading.Lock()\n",
    "alldata = [1, 2, 3, 4]"
   ]
  },
  {
   "cell_type": "code",
   "execution_count": 67,
   "metadata": {},
   "outputs": [],
   "source": [
    "def job1():\n",
    "    global alldata\n",
    "    alldata = [i+1 for i in alldata]\n",
    "    time.sleep(1)\n",
    "    return alldata\n",
    "\n",
    "def job2():\n",
    "    global alldata\n",
    "    alldata = [i+2 for i in alldata]\n",
    "    time.sleep(1)\n",
    "    return alldata\n",
    "\n",
    "def Ljob1():\n",
    "    global alldata\n",
    "    with lo:\n",
    "        alldata = [i+1 for i in alldata]\n",
    "        time.sleep(1)\n",
    "        return alldata\n",
    "\n",
    "def Ljob2():\n",
    "    global alldata\n",
    "    with lo:\n",
    "        alldata = [i+2 for i in alldata]\n",
    "        time.sleep(1)\n",
    "        return alldata"
   ]
  },
  {
   "cell_type": "code",
   "execution_count": 68,
   "metadata": {},
   "outputs": [
    {
     "name": "stdout",
     "output_type": "stream",
     "text": [
      "Time taken: 1.0162174701690674\n",
      "Result: [[4, 5, 6, 7], [4, 5, 6, 7]]\n"
     ]
    }
   ],
   "source": [
    "# no lock\n",
    "start = time.time()\n",
    "result4 = []\n",
    "que = queue.Queue()\n",
    "t1 = threading.Thread(target = lambda q : q.put(job1()), args = (que,))\n",
    "t2 = threading.Thread(target = lambda q : q.put(job2()), args = (que,))\n",
    "t1.start()\n",
    "t2.start()\n",
    "t1.join()\n",
    "t2.join()\n",
    "while not que.empty():\n",
    "    result = que.get()\n",
    "    result4.append(result)\n",
    "end = time.time()    \n",
    "print('Time taken: {}'.format(end - start))\n",
    "print('Result: {}'.format(result4))"
   ]
  },
  {
   "cell_type": "code",
   "execution_count": 62,
   "metadata": {
    "scrolled": true
   },
   "outputs": [
    {
     "name": "stdout",
     "output_type": "stream",
     "text": [
      "Time taken: 2.0224430561065674\n",
      "Result: [[2, 3, 4, 5], [4, 5, 6, 7]]\n"
     ]
    }
   ],
   "source": [
    "# with lock\n",
    "alldata = [1, 2, 3, 4]\n",
    "start = time.time()\n",
    "result4 = []\n",
    "que = queue.Queue()\n",
    "t1 = threading.Thread(target = lambda q : q.put(Ljob1()), args = (que,))\n",
    "t2 = threading.Thread(target = lambda q : q.put(Ljob2()), args = (que,))\n",
    "t1.start()\n",
    "t2.start()\n",
    "t1.join()\n",
    "t2.join()\n",
    "while not que.empty():\n",
    "    result = que.get()\n",
    "    result4.append(result)\n",
    "end = time.time()    \n",
    "print('Time taken: {}'.format(end - start))\n",
    "print('Result: {}'.format(result4))"
   ]
  }
 ],
 "metadata": {
  "kernelspec": {
   "display_name": "Python 3",
   "language": "python",
   "name": "python3"
  },
  "language_info": {
   "codemirror_mode": {
    "name": "ipython",
    "version": 3
   },
   "file_extension": ".py",
   "mimetype": "text/x-python",
   "name": "python",
   "nbconvert_exporter": "python",
   "pygments_lexer": "ipython3",
   "version": "3.6.5"
  }
 },
 "nbformat": 4,
 "nbformat_minor": 2
}
