{
 "cells": [
  {
   "cell_type": "markdown",
   "metadata": {},
   "source": [
    "### Practice Question"
   ]
  },
  {
   "cell_type": "markdown",
   "metadata": {},
   "source": [
    "* **综合题：下面是4个产品(p1, p2, p3, p4)，每个产品对应一组数据，其中第1个整数型数据表示库存量，第2，3，4个数据为浮点型，表示产品在三个不同标准下的评分，第5个数据表示更新状态，True表示继续更新，False表示停止更新，第6个数据格式是string，包含了评价信息。**  \n",
    "**问题1**：对于第一个数据，产品1，2需要每3个进行打包，产品3，4则需要每2个进行打包，问：每个产品需要补充多少库存才能确保打包完成后，仓库中不留产品。  \n",
    "**问题2**：在三个标准下的评分由于录入数据的疏忽，出现了原本应为82.3的分数变为了'8 2.3'，请恢复这些数据，并把值为None的数据用其它有分数数据的平均值进行填补。  \n",
    "**问题3**：对于第5个数据的更新状态，请将True变为1，False变为0  \n",
    "**问题4**：请删去第6个数据评论文字中的非英文与数字部分，并将所有英文转化为小写，将Xm3 形式的字符串中的 X 提取出来，变为浮点型  \n",
    "如：'Good product and 30m^3 very popuLar but hard to use!😊' 变为 ['good', 'product', 'and', 'very', 'popular', 'but', 'hard', 'to', 'use', 30.0]  \n"
   ]
  },
  {
   "cell_type": "code",
   "execution_count": 15,
   "metadata": {
    "collapsed": true
   },
   "outputs": [],
   "source": [
    "data = {'p1': [32, 98.2, 99.1, '97. 0', True, 'Good product and 30m^3 very popuLar but hard to use!😊'], \n",
    "'p2': (66, None, 96.0, 95.4, True, 'Good product with 10m^3 solid quality!'), \n",
    "'p3': (73, 90.0, '8 2.3', None, True, 'Fair 5m^3 qualiTy...'), \n",
    "'p4': (14, '9 9.0', None, None, False, 'Excellent and 17m^3 easy to use!!')}"
   ]
  }
 ],
 "metadata": {
  "kernelspec": {
   "display_name": "Python 3",
   "language": "python",
   "name": "python3"
  },
  "language_info": {
   "codemirror_mode": {
    "name": "ipython",
    "version": 3
   },
   "file_extension": ".py",
   "mimetype": "text/x-python",
   "name": "python",
   "nbconvert_exporter": "python",
   "pygments_lexer": "ipython3",
   "version": "3.6.2"
  }
 },
 "nbformat": 4,
 "nbformat_minor": 2
}
