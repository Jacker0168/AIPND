{
 "cells": [
  {
   "cell_type": "markdown",
   "metadata": {},
   "source": [
    "# W1: Python Programming Foundation"
   ]
  },
  {
   "cell_type": "markdown",
   "metadata": {
    "slideshow": {
     "slide_type": "-"
    }
   },
   "source": [
    "## Jupyter Notebook"
   ]
  },
  {
   "cell_type": "markdown",
   "metadata": {
    "collapsed": true
   },
   "source": [
    "#### [1] 基本命令\n",
    "* Esc + H\n",
    "* Shift + Enter, Ctrl + Enter\n",
    "* Esc + B, Esc + A\n",
    "* Esc + Y, Esc + M, Esc + R\n",
    "* Esc + L\n",
    "* Esc + D + D, Esc + Z\n",
    "* Shift + M\n",
    "\n",
    "#### [2] 进阶操作\n",
    "* Latex\n",
    "* HTML\n",
    "* Slides\n",
    "* Magic \n",
    "\n",
    "#### APPENDIX\n",
    "* Slides: `jupyter nbconvert notebook.ipynb --to slides --post serve`  \n",
    "* Magic: `http://ipython.readthedocs.io/en/stable/interactive/magics.html`  \n",
    "* Markdown: `https://github.com/adam-p/markdown-here/wiki/Markdown-Cheatsheet`\n",
    "\n",
    "#### 常用Magic命令\n",
    "* `magic code + ?`  \n",
    "* `\n",
    "cd ..\n",
    "import os\n",
    "os.getcwd()\n",
    "`\n",
    "* `\n",
    "%time\n",
    "%%time\n",
    "%timeit(fun(x))\n",
    "`"
   ]
  },
  {
   "cell_type": "markdown",
   "metadata": {},
   "source": [
    "#### Notes for %time, %%time, %timeit, itme module"
   ]
  },
  {
   "cell_type": "code",
   "execution_count": 139,
   "metadata": {},
   "outputs": [
    {
     "name": "stdout",
     "output_type": "stream",
     "text": [
      "Wall time: 15.6 ms\n"
     ]
    }
   ],
   "source": [
    "# %time\n",
    "%time a = list(map(lambda x: x**2, range(10000)))"
   ]
  },
  {
   "cell_type": "code",
   "execution_count": 142,
   "metadata": {},
   "outputs": [
    {
     "name": "stdout",
     "output_type": "stream",
     "text": [
      "Wall time: 31.6 ms\n"
     ]
    }
   ],
   "source": [
    "%%time\n",
    "# %%time\n",
    "a = list(map(lambda x: x**2, range(10000)))\n",
    "b = list(map(lambda x: x**3, range(10000)))"
   ]
  },
  {
   "cell_type": "code",
   "execution_count": 155,
   "metadata": {},
   "outputs": [
    {
     "name": "stdout",
     "output_type": "stream",
     "text": [
      "372 ns ± 2.2 ns per loop (mean ± std. dev. of 7 runs, 1000000 loops each)\n"
     ]
    }
   ],
   "source": [
    "# %timeit\n",
    "def fun(*x):\n",
    "    return map(lambda m: m**2, x)\n",
    "%timeit(fun(2, 3, 4, 5))"
   ]
  },
  {
   "cell_type": "code",
   "execution_count": 158,
   "metadata": {},
   "outputs": [
    {
     "name": "stdout",
     "output_type": "stream",
     "text": [
      "4.358048439025879e-07 s\n"
     ]
    }
   ],
   "source": [
    "import time\n",
    "startT = time.time()\n",
    "for i in range(1000000):\n",
    "    fun(2, 3, 4, 5)\n",
    "endT = time.time()\n",
    "print((endT - startT)/1000000, 's')"
   ]
  },
  {
   "cell_type": "markdown",
   "metadata": {},
   "source": [
    "## Python Programming\n"
   ]
  },
  {
   "cell_type": "markdown",
   "metadata": {},
   "source": [
    "#### [1] 基本数据类型与运算符\n",
    "* int, float, bool, string, list, tuple, dict, set\n",
    "* $+, -, \\times, /, //, \\%, x^2$\n",
    "* $==, !=, >, <, >=, <=$\n",
    "* $=, +=, -=, *=, /=, \\%=, **=, //=$\n",
    "* &, |, ^, ~, bin, ord  \n",
    "`0^0=0; 0^1=1; 1^0=1; 1^1=0`  \n",
    "`0|0=0; 0|1=1; 1|0=1; 1|1=1`  \n",
    "* and, or, not\n",
    "* in, not in\n",
    "* is, is not\n",
    "* print(str.format)  \n",
    "`\n",
    "print(\"{0:-<10}\".format(\"a\"))\n",
    "print(\"{0:-^10}\".format(\"a\"))\n",
    "print(\"{0:->10}\".format(\"a\"))\n",
    "`\n",
    "* int()\n",
    "* type\n",
    "* eval, exec\n",
    "\n",
    "#### [2] Python控制流\n",
    "* if, filter\n",
    "* for, map\n",
    "* while\n",
    "* try except finally\n",
    "* zip, enumerate\n",
    "* reduce\n",
    "\n",
    "#### [3] Python函数式编程\n",
    "* 简单函数编写\n",
    "* 调用函数\n",
    "* 局部变脸和全局变量\n",
    "* 收集参数\n",
    "* lambda"
   ]
  },
  {
   "cell_type": "markdown",
   "metadata": {},
   "source": [
    "### Others\n",
    "* ? Zip 转置  <code>tuple(zip(*data))</code>  \n",
    "* ? 两个列表生成dict  <code>dict(zip(a_list, b_list))</code>\n",
    "* ? id & copy (id: 短字符串和整型, copy: list, dict)"
   ]
  }
 ],
 "metadata": {
  "kernelspec": {
   "display_name": "Python 3",
   "language": "python",
   "name": "python3"
  },
  "language_info": {
   "codemirror_mode": {
    "name": "ipython",
    "version": 3
   },
   "file_extension": ".py",
   "mimetype": "text/x-python",
   "name": "python",
   "nbconvert_exporter": "python",
   "pygments_lexer": "ipython3",
   "version": "3.6.5"
  }
 },
 "nbformat": 4,
 "nbformat_minor": 2
}
