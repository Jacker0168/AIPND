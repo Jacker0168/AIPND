{
 "cells": [
  {
   "cell_type": "markdown",
   "metadata": {
    "collapsed": true
   },
   "source": [
    "## Iterable_objects Part I"
   ]
  },
  {
   "cell_type": "markdown",
   "metadata": {},
   "source": [
    "* **Question 1**  \n",
    "Given an array of integers, return indices of the two numbers such that they add up to a specific target. You may assume that each input would have exactly one solution, and you may not use the same element twice.  \n",
    "**Example:**\n",
    "Given nums = [2, 7, 11, 15], target = 9,  \n",
    "Because nums[0] + nums[1] = 2 + 7 = 9,  \n",
    "return [0, 1].  \n",
    "**Mark**  \n",
    "1. elments in dict(bool)\n",
    "2. enumerate\n",
    "3. try except\n",
    "4. string.find; string.index; list.index; tuple.index; "
   ]
  },
  {
   "cell_type": "code",
   "execution_count": 21,
   "metadata": {},
   "outputs": [
    {
     "name": "stdout",
     "output_type": "stream",
     "text": [
      "False\n",
      "True\n"
     ]
    }
   ],
   "source": [
    "print(1 in {'a': 1, 'b': 2})\n",
    "print('a' in {'a': 1, 'b': 2})"
   ]
  },
  {
   "cell_type": "code",
   "execution_count": 28,
   "metadata": {},
   "outputs": [
    {
     "name": "stdout",
     "output_type": "stream",
     "text": [
      "[0, 1]\n",
      "[0, 1]\n"
     ]
    }
   ],
   "source": [
    "# lc 1\n",
    "# method 1 with diff dict\n",
    "def twoSum1(nums, target):\n",
    "    if len(nums) <= 1:\n",
    "        return False\n",
    "    num_dict = dict()\n",
    "    for index, value in enumerate(nums):\n",
    "        sub = target - value\n",
    "        if sub in num_dict:\n",
    "            return [num_dict[sub], index]\n",
    "        else:\n",
    "            num_dict[value] = index\n",
    "    \n",
    "def twoSum2(nums, target):\n",
    "    for i in range(len(nums)):\n",
    "        try: \n",
    "            j = nums.index(target - nums[i])\n",
    "            return [i, j]\n",
    "        except ValueError: \n",
    "            continue\n",
    "            \n",
    "print(twoSum1([1, 2, 3], 3))\n",
    "print(twoSum2([1, 2, 3], 3))"
   ]
  },
  {
   "cell_type": "markdown",
   "metadata": {},
   "source": [
    "* **Question 2**  \n",
    "Given two strings s and t, determine if they are isomorphic. Two strings are isomorphic if the characters in s can be replaced to get t. All occurrences of a character must be replaced with another character while preserving the order of characters. No two characters may map to the same character but a character may map to itself.  \n",
    "**Example:**  \n",
    "Given \"egg\", \"add\", return true.  \n",
    "Given \"foo\", \"bar\", return false.  \n",
    "Given \"paper\", \"title\", return true.  \n",
    "**Mark**  \n",
    "1. zip\n",
    "2. map\n",
    "3. get"
   ]
  },
  {
   "cell_type": "code",
   "execution_count": 71,
   "metadata": {},
   "outputs": [
    {
     "name": "stdout",
     "output_type": "stream",
     "text": [
      "1\n",
      "[]\n",
      "<map object at 0x000001B0D3429550>\n",
      "<map object at 0x000001B0D34294E0>\n",
      "[0, 1, 1]\n"
     ]
    }
   ],
   "source": [
    "print({'a': 1, 'b': 2}.get('a', []))\n",
    "print({'a': 1, 'b': 2}.get('c', []))\n",
    "\n",
    "print(map('egg'.find, 'egg'))\n",
    "print(map('add'.find, 'add'))\n",
    "\n",
    "print(list(map('egg'.find, 'egg')))"
   ]
  },
  {
   "cell_type": "code",
   "execution_count": 82,
   "metadata": {},
   "outputs": [
    {
     "name": "stdout",
     "output_type": "stream",
     "text": [
      "True\n",
      "True\n",
      "{'e': [0], 'g': [1, 2]}\n",
      "{'a': [0], 'd': [1, 2]}\n",
      "True\n"
     ]
    }
   ],
   "source": [
    "# lc 205\n",
    "# method 1\n",
    "def isomorphic1(s, t):\n",
    "    return len(set(zip(s, t))) == len(set(s)) == len(set(t))\n",
    "# method 2\n",
    "def isomorphic2(s, t):\n",
    "    return list(map(s.find, s)) == list(map(t.find, t))\n",
    "# method 3\n",
    "def isomorphic3(s, t):\n",
    "    d1, d2 = {}, {}\n",
    "    for i, val in enumerate(s):\n",
    "        d1[val] = d1.get(val, []) + [i]\n",
    "    for i, val in enumerate(t):\n",
    "        d2[val] = d2.get(val, []) + [i]\n",
    "    print(d1)\n",
    "    print(d2)\n",
    "    return sorted(d1.values()) == sorted(d2.values())\n",
    "    \n",
    "print(isomorphic1('egg', 'add'))\n",
    "print(isomorphic2('egg', 'add'))\n",
    "print(isomorphic3('egg', 'add'))"
   ]
  },
  {
   "cell_type": "markdown",
   "metadata": {},
   "source": [
    "* **Question 3**  \n",
    "Given two strings s and t, write a function to determine if t is an anagram of s.  \n",
    "**Example:**  \n",
    "s = \"anagram\", t = \"nagaram\", return true.  \n",
    "s = \"rat\", t = \"car\", return false.  \n",
    "**Note:**\n",
    "You may assume the string contains only lowercase alphabets.  "
   ]
  },
  {
   "cell_type": "code",
   "execution_count": 85,
   "metadata": {},
   "outputs": [
    {
     "name": "stdout",
     "output_type": "stream",
     "text": [
      "True\n"
     ]
    }
   ],
   "source": [
    "def anagram(s, t):\n",
    "    if len(s) != len(t):\n",
    "        return False\n",
    "    else:\n",
    "        dict1 = {}\n",
    "        dict2 = {}\n",
    "        for i, j in zip(s, t):\n",
    "            dict1[i] = dict1.get(i, 0) + 1\n",
    "            dict2[j] = dict2.get(j, 0) + 1\n",
    "        return dict1 == dict2\n",
    "    \n",
    "print(anagram('anagram', 'nagaram'))"
   ]
  },
  {
   "cell_type": "markdown",
   "metadata": {},
   "source": [
    "* **Question 4**  \n",
    "You are given a string representing an attendance record for a student. The record only contains the following three characters:  \n",
    "'A' : Absent.  \n",
    "'L' : Late.  \n",
    "'P' : Present.  \n",
    "A student could be rewarded if his attendance record doesn't contain more than one 'A' (absent) or more than two continuous 'L' (late).  \n",
    "You need to return whether the student could be rewarded according to his attendance record.  \n",
    "**Example1:**   \n",
    "Input: \"PPALLP\"  \n",
    "Output: True  \n",
    "**Example2:**  \n",
    "Input: \"PPALLL\"  \n",
    "Output: False  "
   ]
  },
  {
   "cell_type": "code",
   "execution_count": 92,
   "metadata": {},
   "outputs": [
    {
     "name": "stdout",
     "output_type": "stream",
     "text": [
      "False\n",
      "True\n"
     ]
    }
   ],
   "source": [
    "# lc 551\n",
    "# answer 1\n",
    "def judgeReward1(s):\n",
    "    s = filter(lambda x: x != 'P', s)\n",
    "    if s == '':\n",
    "        return True\n",
    "    student = {}\n",
    "    for i in s:\n",
    "        student[i] = student.get(i, 0) + 1\n",
    "    if student['A'] <= 1 and student['L'] <= 2:\n",
    "        return True\n",
    "    else:\n",
    "        return False\n",
    "    \n",
    "# answer2\n",
    "def checkRecord(self, s):\n",
    "    return not (s.count('A') > 1 or 'LLL' in s)\n",
    "    \n",
    "print(judgeReward('PPALLLP'))\n",
    "print(judgeReward('PPALPLP'))"
   ]
  },
  {
   "cell_type": "markdown",
   "metadata": {},
   "source": [
    "* **Question 5**  \n",
    "Suppose Andy and Doris want to choose a restaurant for dinner, and they both have a list of favorite restaurants represented by strings. You need to help them find out their common interest with the least list index sum. If there is a choice tie between answers, output all of them with no order requirement. You could assume there always exists an answer.  \n",
    "**Example1:**   \n",
    "Input:  \n",
    "[\"Shogun\", \"Tapioca Express\", \"Burger King\", \"KFC\"]  \n",
    "[\"Piatti\", \"The Grill at Torrey Pines\", \"Hungry Hunter Steakhouse\", \"Shogun\"]  \n",
    "Output: [\"Shogun\"]  \n",
    "Explanation: The only restaurant they both like is \"Shogun\".  \n",
    "**Example2:**  \n",
    "Input:  \n",
    "[\"Shogun\", \"Tapioca Express\", \"Burger King\", \"KFC\"]  \n",
    "[\"KFC\", \"Shogun\", \"Burger King\"]  \n",
    "Output: [\"Shogun\"]  \n",
    "Explanation: The restaurant they both like and have the least index sum is \"Shogun\" with index sum 1 (0+1).  \n",
    "**Note:**  \n",
    "The length of both lists will be in the range of [1, 1000].  \n",
    "The length of strings in both lists will be in the range of [1, 30].  \n",
    "The index is starting from 0 to the list length minus 1.  \n",
    "No duplicates in both lists.  \n",
    "**Mark**  \n",
    "1. set & | - "
   ]
  },
  {
   "cell_type": "code",
   "execution_count": 95,
   "metadata": {},
   "outputs": [
    {
     "data": {
      "text/plain": [
       "{'a'}"
      ]
     },
     "execution_count": 95,
     "metadata": {},
     "output_type": "execute_result"
    }
   ],
   "source": [
    "set(['a', 'b'])&set(['a', 'c'])"
   ]
  },
  {
   "cell_type": "code",
   "execution_count": 97,
   "metadata": {},
   "outputs": [
    {
     "name": "stdout",
     "output_type": "stream",
     "text": [
      "Shogun\n",
      "Shogun\n"
     ]
    }
   ],
   "source": [
    "# lc 599\n",
    "def restaurant(l1, l2):\n",
    "    if len(set(l1)&set(l2)) == 0:\n",
    "        return False\n",
    "    for each_l1 in l1:\n",
    "        try:\n",
    "            i = l2.index(each_l1)\n",
    "            return each_l1\n",
    "        except ValueError:\n",
    "            continue\n",
    "    return False\n",
    "\n",
    "print(restaurant([\"Shogun\", \"Tapioca Express\", \"Burger King\", \"KFC\"], \\\n",
    "           [\"KFC\", \"Shogun\", \"Burger King\"]))\n",
    "print(restaurant([\"Shogun\", \"Tapioca Express\", \"Burger King\", \"KFC\"], \\\n",
    "           [\"Piatti\", \"The Grill at Torrey Pines\", \"Hungry Hunter Steakhouse\", \"Shogun\"]))"
   ]
  }
 ],
 "metadata": {
  "kernelspec": {
   "display_name": "Python 3",
   "language": "python",
   "name": "python3"
  },
  "language_info": {
   "codemirror_mode": {
    "name": "ipython",
    "version": 3
   },
   "file_extension": ".py",
   "mimetype": "text/x-python",
   "name": "python",
   "nbconvert_exporter": "python",
   "pygments_lexer": "ipython3",
   "version": "3.6.2"
  }
 },
 "nbformat": 4,
 "nbformat_minor": 2
}
