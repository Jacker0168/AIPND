{
 "cells": [
  {
   "cell_type": "markdown",
   "metadata": {},
   "source": [
    "# Linear Regression"
   ]
  },
  {
   "cell_type": "markdown",
   "metadata": {},
   "source": [
    "## 1.1 Vector and Matrix"
   ]
  },
  {
   "cell_type": "code",
   "execution_count": 2,
   "metadata": {},
   "outputs": [],
   "source": [
    "import numpy as np\n",
    "# import scipy"
   ]
  },
  {
   "cell_type": "code",
   "execution_count": 3,
   "metadata": {},
   "outputs": [
    {
     "data": {
      "text/plain": [
       "array([[-6.,  1., -6.],\n",
       "       [ 4., -1.,  2.],\n",
       "       [ 4., -1.,  4.]])"
      ]
     },
     "execution_count": 3,
     "metadata": {},
     "output_type": "execute_result"
    }
   ],
   "source": [
    "# operator\n",
    "A = np.array([[1,2,3], \n",
    "              [2,2,3], \n",
    "              [1,7,3]])\n",
    "B = np.array([[1,-1,2], [4,0,6], [0,1,-1]])\n",
    "# add\n",
    "A + B\n",
    "# substraction\n",
    "A - B\n",
    "# multiple\n",
    "A*B\n",
    "Am = np.matrix(A)\n",
    "Bm = np.matrix(B)\n",
    "Am*Bm*Bm*Am\n",
    "# matrix dot\n",
    "np.dot(A, B)\n",
    "# transpose\n",
    "A.T\n",
    "# inverse\n",
    "np.linalg.inv(A)\n",
    "# det\n",
    "np.linalg.det(A)\n",
    "# adjoint\n",
    "np.linalg.inv(B)*np.linalg.det(B)"
   ]
  },
  {
   "cell_type": "code",
   "execution_count": 89,
   "metadata": {},
   "outputs": [
    {
     "data": {
      "text/plain": [
       "3"
      ]
     },
     "execution_count": 89,
     "metadata": {},
     "output_type": "execute_result"
    }
   ],
   "source": [
    "# terms\n",
    "# order # map, reduce, filter\n",
    "from functools import reduce \n",
    "reduce(lambda x, y: x*y, A.shape)\n",
    "# diag\n",
    "np.diag([1,2,4])\n",
    "# scalar matrix\n",
    "np.eye(3)*3\n",
    "# upper triangular\n",
    "np.triu(A, -2)\n",
    "np.tril(A, 0)\n",
    "# identity matrix\n",
    "np.ones(9).reshape(3,3)\n",
    "np.identity(4)\n",
    "# trace\n",
    "A.trace()\n",
    "# rank\n",
    "np.linalg.matrix_rank(A)\n",
    "# p-norm\n",
    "# frobenius norm\n",
    "# condition number"
   ]
  },
  {
   "cell_type": "markdown",
   "metadata": {},
   "source": [
    "## 1.2 Solve Linear Equations"
   ]
  },
  {
   "cell_type": "markdown",
   "metadata": {},
   "source": [
    "$$\n",
    "\\begin{cases}\n",
    "2x - y = -1\\\\\\\\\n",
    "\\frac{1}{10}x - y = -6\n",
    "\\end{cases}\n",
    "$$\n",
    "\n",
    "$$Ax = b$$"
   ]
  },
  {
   "cell_type": "code",
   "execution_count": 50,
   "metadata": {},
   "outputs": [
    {
     "name": "stdout",
     "output_type": "stream",
     "text": [
      "solution:  [2.63157895 6.26315789]\n"
     ]
    }
   ],
   "source": [
    "A = np.array([[2, -1], [0.1, -1]])\n",
    "b = np.array([-1, -6])\n",
    "A_inv = np.linalg.inv(A)\n",
    "print('solution: ', np.dot(A_inv, b))"
   ]
  },
  {
   "cell_type": "code",
   "execution_count": 63,
   "metadata": {},
   "outputs": [
    {
     "data": {
      "text/plain": [
       "array([2.63157895, 6.26315789])"
      ]
     },
     "execution_count": 63,
     "metadata": {},
     "output_type": "execute_result"
    }
   ],
   "source": [
    "# solve equation\n",
    "a = np.array([[2, -1], [0.1, -1]])\n",
    "b = np.array([-1, -6])\n",
    "x = np.linalg.solve(a, b)\n",
    "x"
   ]
  },
  {
   "cell_type": "code",
   "execution_count": 91,
   "metadata": {},
   "outputs": [],
   "source": [
    "class LinearReg:\n",
    "    def __init__(self, data):\n",
    "        '''data: type: pandas dataframe'''\n",
    "        self.data = data\n",
    "        self.length = len(data)\n",
    "    def ols(self, x, y):\n",
    "        '''\n",
    "        x: column name\n",
    "        y: column name\n",
    "        '''\n",
    "        X = np.matrix(np.vstack([np.ones(self.length), self.data[x].values]).T)\n",
    "        y = np.matrix(self.data[y].values).T\n",
    "        beta = np.linalg.inv(X.T*X)*X.T*y\n",
    "        return beta\n",
    "    def sklearn_ols(self, x, y):\n",
    "        X = np.matrix(self.data[x].values).T\n",
    "        y = np.matrix(self.data[y].values).T\n",
    "        # Create linear regression object\n",
    "        OLS = linear_model.LinearRegression()\n",
    "        # Train the model using the training sets\n",
    "        OLS.fit(X, y)\n",
    "        return np.vstack([OLS.intercept_, OLS.coef_])\n",
    "    def visual(self, x, y, step = 0.01):\n",
    "        para = self.ols(x, y)\n",
    "        X = self.data[x]\n",
    "        Y = self.data[y]\n",
    "        min_x, max_x = min(X), max(X)\n",
    "        # x is also matrix\n",
    "        func = lambda x: x*para\n",
    "        x_sim = np.arange(min_x, max_x, step)\n",
    "        xm = np.vstack([np.ones(len(x_sim)), x_sim]).T\n",
    "        y_sim = func(xm)\n",
    "        self.data.plot.scatter(x,y)\n",
    "        plt.plot(x_sim, y_sim)\n",
    "        plt.title('The Relationship Between {0} and {1}'.format(x, y))"
   ]
  },
  {
   "cell_type": "markdown",
   "metadata": {},
   "source": [
    "## 1.3 Eigenvalues and eigenvectors"
   ]
  },
  {
   "cell_type": "code",
   "execution_count": 53,
   "metadata": {
    "scrolled": true
   },
   "outputs": [
    {
     "name": "stdout",
     "output_type": "stream",
     "text": [
      "[ 4.31662479e+00 -2.31662479e+00  1.47314580e-16]\n",
      "[[ 0.58428153  0.73595785  0.40824829]\n",
      " [ 0.80407569 -0.38198836 -0.81649658]\n",
      " [ 0.10989708 -0.55897311  0.40824829]]\n"
     ]
    }
   ],
   "source": [
    "import numpy as np\n",
    "A = np.array([[1,2,3],[3,2,1],[1,0,-1]])\n",
    "w, v = np.linalg.eig(A)\n",
    "print(w)\n",
    "print(v)"
   ]
  },
  {
   "cell_type": "markdown",
   "metadata": {},
   "source": [
    "## 1.4 Singular Value decomposition"
   ]
  },
  {
   "cell_type": "code",
   "execution_count": 58,
   "metadata": {},
   "outputs": [
    {
     "data": {
      "text/plain": [
       "array([[ 1.00000000e+00,  2.00000000e+00,  3.00000000e+00],\n",
       "       [ 3.00000000e+00,  2.00000000e+00,  1.00000000e+00],\n",
       "       [ 1.00000000e+00,  7.56448342e-16, -1.00000000e+00]])"
      ]
     },
     "execution_count": 58,
     "metadata": {},
     "output_type": "execute_result"
    }
   ],
   "source": [
    "np.dot(np.dot(U, np.diag(S)), Vh)"
   ]
  },
  {
   "cell_type": "code",
   "execution_count": 56,
   "metadata": {},
   "outputs": [
    {
     "name": "stdout",
     "output_type": "stream",
     "text": [
      "[[-7.07106781e-01  5.77350269e-01  4.08248290e-01]\n",
      " [-7.07106781e-01 -5.77350269e-01 -4.08248290e-01]\n",
      " [-2.46391293e-16 -5.77350269e-01  8.16496581e-01]]\n",
      "[4.89897949e+00 2.44948974e+00 2.82334716e-16]\n",
      "[[-5.77350269e-01 -5.77350269e-01 -5.77350269e-01]\n",
      " [-7.07106781e-01  9.09866946e-17  7.07106781e-01]\n",
      " [-4.08248290e-01  8.16496581e-01 -4.08248290e-01]]\n"
     ]
    }
   ],
   "source": [
    "U, S, Vh = np.linalg.svd(A)\n",
    "print(U)\n",
    "print(S)\n",
    "print(Vh)"
   ]
  },
  {
   "cell_type": "code",
   "execution_count": 61,
   "metadata": {},
   "outputs": [
    {
     "data": {
      "image/png": "[encoded data removed]",
      "text/plain": [
       "<Figure size 432x288 with 1 Axes>"
      ]
     },
     "metadata": {},
     "output_type": "display_data"
    }
   ],
   "source": [
    "# plot arrow\n",
    "import matplotlib.pyplot as plt\n",
    "%matplotlib inline\n",
    "plt.xlim(-2, 6)\n",
    "plt.ylim(-1, 4)\n",
    "plt.arrow(0,0,4,1, width=0.1)\n",
    "plt.arrow(0,0,-1,2, width=0.1)\n",
    "plt.arrow(0,0,3,3, width=0.1)\n",
    "plt.show()"
   ]
  }
 ],
 "metadata": {
  "kernelspec": {
   "display_name": "Python 3",
   "language": "python",
   "name": "python3"
  },
  "language_info": {
   "codemirror_mode": {
    "name": "ipython",
    "version": 3
   },
   "file_extension": ".py",
   "mimetype": "text/x-python",
   "name": "python",
   "nbconvert_exporter": "python",
   "pygments_lexer": "ipython3",
   "version": "3.6.5"
  }
 },
 "nbformat": 4,
 "nbformat_minor": 2
}
