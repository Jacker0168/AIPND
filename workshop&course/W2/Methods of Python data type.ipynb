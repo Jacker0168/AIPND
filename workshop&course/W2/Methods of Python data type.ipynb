{
 "cells": [
  {
   "cell_type": "markdown",
   "metadata": {},
   "source": [
    "# Methods of Python data type"
   ]
  },
  {
   "cell_type": "markdown",
   "metadata": {},
   "source": [
    "## 1. String"
   ]
  },
  {
   "cell_type": "code",
   "execution_count": 10,
   "metadata": {},
   "outputs": [
    {
     "name": "stdout",
     "output_type": "stream",
     "text": [
      "000849\n",
      "849111\n",
      "111849\n",
      "184911\n"
     ]
    }
   ],
   "source": [
    "# (1) filling 字符串填充\n",
    "str1 = '849'\n",
    "print(str1.zfill(6))\n",
    "print(str1.ljust(6, '1'))\n",
    "print(str1.rjust(6, '1'))\n",
    "print(str1.center(6, '1'))"
   ]
  },
  {
   "cell_type": "code",
   "execution_count": 21,
   "metadata": {},
   "outputs": [
    {
     "name": "stdout",
     "output_type": "stream",
     "text": [
      "849\n",
      "8491\n",
      "1849\n"
     ]
    }
   ],
   "source": [
    "# (2) delete 字符串删减\n",
    "str2 = '18491'\n",
    "print(str2.strip('1'))\n",
    "print(str2.lstrip('1'))\n",
    "print(str2.rstrip('1'))"
   ]
  },
  {
   "cell_type": "code",
   "execution_count": 25,
   "metadata": {},
   "outputs": [
    {
     "name": "stdout",
     "output_type": "stream",
     "text": [
      "abc bcd\n",
      "ABC BCD\n",
      "Abc bcd\n",
      "AbC BcD\n",
      "Abc Bcd\n"
     ]
    }
   ],
   "source": [
    "# (3) transform 字符串变形\n",
    "str3 = 'aBc bCd'\n",
    "print(str3.lower())\n",
    "print(str3.upper())\n",
    "# 1st letter in string\n",
    "print(str3.capitalize())\n",
    "print(str3.swapcase())\n",
    "# 1st letter in each word\n",
    "print(str3.title())"
   ]
  },
  {
   "cell_type": "code",
   "execution_count": 54,
   "metadata": {},
   "outputs": [
    {
     "name": "stdout",
     "output_type": "stream",
     "text": [
      "('apple', ',', ' water, book')\n",
      "('apple, water', ',', ' book')\n"
     ]
    },
    {
     "data": {
      "text/plain": [
       "['apple', 'water, book']"
      ]
     },
     "execution_count": 54,
     "metadata": {},
     "output_type": "execute_result"
    }
   ],
   "source": [
    "# (4) splite 字符串切分\n",
    "str4 = 'apple, water, book'\n",
    "# string in the left, right and sep\n",
    "print(str4.partition(','))\n",
    "print(str4.rpartition(','))\n",
    "str4.split(', ', 1)"
   ]
  },
  {
   "cell_type": "code",
   "execution_count": 56,
   "metadata": {},
   "outputs": [
    {
     "data": {
      "text/plain": [
       "'apple, water, book'"
      ]
     },
     "execution_count": 56,
     "metadata": {},
     "output_type": "execute_result"
    }
   ],
   "source": [
    "# (5) join 字符串连接\n",
    "', '.join(['apple', 'water', 'book'])"
   ]
  },
  {
   "cell_type": "code",
   "execution_count": 89,
   "metadata": {},
   "outputs": [
    {
     "name": "stdout",
     "output_type": "stream",
     "text": [
      "False\n",
      "True\n",
      "True\n",
      "True\n",
      "True\n",
      "True\n",
      "False True\n",
      "True\n",
      "True\n"
     ]
    }
   ],
   "source": [
    "# (6) judge 字符串判定\n",
    "str5 = 'udacity.com'\n",
    "str6 = 'UDACITY'\n",
    "str7 = '1234'\n",
    "str8 = 'Udacity uuu'\n",
    "str9 = 'Udacity'\n",
    "# if only number and alphabets\n",
    "print(str5.isalnum())\n",
    "print(str6.isalnum())\n",
    "# if only alphabets\n",
    "print(str6.isalpha())\n",
    "# if only digit\n",
    "print(str7.isdigit())\n",
    "# if all lower\n",
    "print(str5.islower())\n",
    "# if all upper\n",
    "print(str6.isupper())\n",
    "# if only the first alphabet upper\n",
    "print(str8.istitle(), str9.istitle())\n",
    "# if the string start with substr\n",
    "print(str9.startswith('Uda'))\n",
    "# if the string end with substr\n",
    "print(str9.endswith('city'))"
   ]
  },
  {
   "cell_type": "code",
   "execution_count": 98,
   "metadata": {},
   "outputs": [
    {
     "name": "stdout",
     "output_type": "stream",
     "text": [
      "2\n",
      "-1\n",
      "1\n"
     ]
    }
   ],
   "source": [
    "# (7) judge 字符串查找\n",
    "str10 = 'abbccddde'\n",
    "print(str10.count('b'))\n",
    "# return index\n",
    "print(str10.find('f'))\n",
    "print(str10.index('b'))"
   ]
  },
  {
   "cell_type": "code",
   "execution_count": null,
   "metadata": {},
   "outputs": [],
   "source": [
    "# (8) replace 字符串替换\n"
   ]
  }
 ],
 "metadata": {
  "kernelspec": {
   "display_name": "Python 3",
   "language": "python",
   "name": "python3"
  },
  "language_info": {
   "codemirror_mode": {
    "name": "ipython",
    "version": 3
   },
   "file_extension": ".py",
   "mimetype": "text/x-python",
   "name": "python",
   "nbconvert_exporter": "python",
   "pygments_lexer": "ipython3",
   "version": "3.6.5"
  }
 },
 "nbformat": 4,
 "nbformat_minor": 2
}
