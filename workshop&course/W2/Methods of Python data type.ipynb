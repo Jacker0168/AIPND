{
 "cells": [
  {
   "cell_type": "markdown",
   "metadata": {},
   "source": [
    "# Methods of Python data type"
   ]
  },
  {
   "cell_type": "markdown",
   "metadata": {},
   "source": [
    "## 1. String"
   ]
  },
  {
   "cell_type": "code",
   "execution_count": 10,
   "metadata": {},
   "outputs": [
    {
     "name": "stdout",
     "output_type": "stream",
     "text": [
      "000849\n",
      "849111\n",
      "111849\n",
      "184911\n"
     ]
    }
   ],
   "source": [
    "# (1) filling 字符串填充\n",
    "str1 = '849'\n",
    "print(str1.zfill(6))\n",
    "print(str1.ljust(6, '1'))\n",
    "print(str1.rjust(6, '1'))\n",
    "print(str1.center(6, '1'))"
   ]
  },
  {
   "cell_type": "code",
   "execution_count": 21,
   "metadata": {},
   "outputs": [
    {
     "name": "stdout",
     "output_type": "stream",
     "text": [
      "849\n",
      "8491\n",
      "1849\n"
     ]
    }
   ],
   "source": [
    "# (2) delete 字符串删减\n",
    "str2 = '18491'\n",
    "print(str2.strip('1'))\n",
    "print(str2.lstrip('1'))\n",
    "print(str2.rstrip('1'))"
   ]
  },
  {
   "cell_type": "code",
   "execution_count": 25,
   "metadata": {},
   "outputs": [
    {
     "name": "stdout",
     "output_type": "stream",
     "text": [
      "abc bcd\n",
      "ABC BCD\n",
      "Abc bcd\n",
      "AbC BcD\n",
      "Abc Bcd\n"
     ]
    }
   ],
   "source": [
    "# (3) transform 字符串变形\n",
    "str3 = 'aBc bCd'\n",
    "print(str3.lower())\n",
    "print(str3.upper())\n",
    "# 1st letter in string\n",
    "print(str3.capitalize())\n",
    "print(str3.swapcase())\n",
    "# 1st letter in each word\n",
    "print(str3.title())"
   ]
  },
  {
   "cell_type": "code",
   "execution_count": 54,
   "metadata": {},
   "outputs": [
    {
     "name": "stdout",
     "output_type": "stream",
     "text": [
      "('apple', ',', ' water, book')\n",
      "('apple, water', ',', ' book')\n"
     ]
    },
    {
     "data": {
      "text/plain": [
       "['apple', 'water, book']"
      ]
     },
     "execution_count": 54,
     "metadata": {},
     "output_type": "execute_result"
    }
   ],
   "source": [
    "# (4) splite 字符串切分\n",
    "str4 = 'apple, water, book'\n",
    "# string in the left, right and sep\n",
    "print(str4.partition(','))\n",
    "print(str4.rpartition(','))\n",
    "str4.split(', ', 1)"
   ]
  },
  {
   "cell_type": "code",
   "execution_count": 56,
   "metadata": {},
   "outputs": [
    {
     "data": {
      "text/plain": [
       "'apple, water, book'"
      ]
     },
     "execution_count": 56,
     "metadata": {},
     "output_type": "execute_result"
    }
   ],
   "source": [
    "# (5) join 字符串连接\n",
    "', '.join(['apple', 'water', 'book'])"
   ]
  },
  {
   "cell_type": "code",
   "execution_count": 89,
   "metadata": {},
   "outputs": [
    {
     "name": "stdout",
     "output_type": "stream",
     "text": [
      "False\n",
      "True\n",
      "True\n",
      "True\n",
      "True\n",
      "True\n",
      "False True\n",
      "True\n",
      "True\n"
     ]
    }
   ],
   "source": [
    "# (6) judge 字符串判定\n",
    "str5 = 'udacity.com'\n",
    "str6 = 'UDACITY'\n",
    "str7 = '1234'\n",
    "str8 = 'Udacity uuu'\n",
    "str9 = 'Udacity'\n",
    "# if only number and alphabets\n",
    "print(str5.isalnum())\n",
    "print(str6.isalnum())\n",
    "# if only alphabets\n",
    "print(str6.isalpha())\n",
    "# if only digit\n",
    "print(str7.isdigit())\n",
    "# if all lower\n",
    "print(str5.islower())\n",
    "# if all upper\n",
    "print(str6.isupper())\n",
    "# if only the first alphabet upper\n",
    "print(str8.istitle(), str9.istitle())\n",
    "# if the string start with substr\n",
    "print(str9.startswith('Uda'))\n",
    "# if the string end with substr\n",
    "print(str9.endswith('city'))"
   ]
  },
  {
   "cell_type": "code",
   "execution_count": 98,
   "metadata": {},
   "outputs": [
    {
     "name": "stdout",
     "output_type": "stream",
     "text": [
      "2\n",
      "-1\n",
      "1\n"
     ]
    }
   ],
   "source": [
    "# (7) judge 字符串查找\n",
    "str10 = 'abbccddde'\n",
    "print(str10.count('b'))\n",
    "# return index\n",
    "print(str10.find('f'))\n",
    "print(str10.index('b'))"
   ]
  },
  {
   "cell_type": "code",
   "execution_count": 100,
   "metadata": {},
   "outputs": [
    {
     "data": {
      "text/plain": [
       "'abbcc!!de'"
      ]
     },
     "execution_count": 100,
     "metadata": {},
     "output_type": "execute_result"
    }
   ],
   "source": [
    "# (8) replace 字符串替换\n",
    "str10.replace('d', '!', 2)"
   ]
  },
  {
   "cell_type": "markdown",
   "metadata": {},
   "source": [
    "## 2. List"
   ]
  },
  {
   "cell_type": "code",
   "execution_count": 124,
   "metadata": {},
   "outputs": [
    {
     "name": "stdout",
     "output_type": "stream",
     "text": [
      "[1, 2, 3, 4]\n",
      "[1, 2, 3, 4, 1, 2, 3, 4]\n",
      "[1, 2, 3, 4, 1, 2, 3, 4, 1, 2, 3, 4]\n",
      "[[5, 5], 1, 2, 3, 4, 1, 2, 3, 4, 1, 2, 3, 4]\n"
     ]
    }
   ],
   "source": [
    "# (1) append 添加元素\n",
    "# 1. append\n",
    "a = [1, 2, 3]\n",
    "a.append(4)\n",
    "print(a)\n",
    "# 2. extend\n",
    "a.extend([1,2,3,4])\n",
    "print(a)\n",
    "# 3. +\n",
    "a = a + [1, 2, 3, 4]\n",
    "print(a)\n",
    "# 4. insert\n",
    "a.insert(0, [5, 5])\n",
    "print(a)"
   ]
  },
  {
   "cell_type": "code",
   "execution_count": 125,
   "metadata": {},
   "outputs": [
    {
     "name": "stdout",
     "output_type": "stream",
     "text": [
      "[2, 3, 4, 5]\n",
      "[2, 3, 5]\n"
     ]
    },
    {
     "data": {
      "text/plain": [
       "[]"
      ]
     },
     "execution_count": 125,
     "metadata": {},
     "output_type": "execute_result"
    }
   ],
   "source": [
    "# (2) 删除元素\n",
    "# 1. remove\n",
    "a = [1, 2, 3, 4, 5]\n",
    "a.remove(1)\n",
    "print(a)\n",
    "# 2. pop\n",
    "a.pop(2)\n",
    "print(a)\n",
    "# 3. del\n",
    "del a\n",
    "# a deleted\n",
    "# print(a)\n",
    "# 4. clear\n",
    "a = [1, 2, 3, 4, 5]\n",
    "a.clear()\n",
    "a"
   ]
  },
  {
   "cell_type": "code",
   "execution_count": 126,
   "metadata": {},
   "outputs": [
    {
     "data": {
      "text/plain": [
       "2"
      ]
     },
     "execution_count": 126,
     "metadata": {},
     "output_type": "execute_result"
    }
   ],
   "source": [
    "# (3) 列表计数\n",
    "a = [1, 2, 1, 3]\n",
    "a.count(1)"
   ]
  },
  {
   "cell_type": "code",
   "execution_count": 132,
   "metadata": {},
   "outputs": [
    {
     "name": "stdout",
     "output_type": "stream",
     "text": [
      "[1, 2, 3, 5]\n",
      "[5, 3, 1, 2]\n"
     ]
    }
   ],
   "source": [
    "# (4) 列表排序\n",
    "a = [5, 3, 1, 2]\n",
    "print(sorted(a))\n",
    "reversed(a)\n",
    "print(a)"
   ]
  },
  {
   "cell_type": "code",
   "execution_count": 146,
   "metadata": {},
   "outputs": [
    {
     "name": "stdout",
     "output_type": "stream",
     "text": [
      "[3]\n"
     ]
    }
   ],
   "source": [
    "# (5) 列表筛选\n",
    "b = [1, 2, 3]\n",
    "print(list(filter(lambda x: x>2, b)))"
   ]
  },
  {
   "cell_type": "code",
   "execution_count": 138,
   "metadata": {},
   "outputs": [
    {
     "name": "stdout",
     "output_type": "stream",
     "text": [
      "1\n",
      "[2, 3]\n"
     ]
    }
   ],
   "source": [
    "# (6) 列表索引\n",
    "a = [1, 2, 3]\n",
    "print(a.index(2))\n",
    "print(a[1:])"
   ]
  },
  {
   "cell_type": "markdown",
   "metadata": {},
   "source": [
    "## 3. dict"
   ]
  },
  {
   "cell_type": "code",
   "execution_count": 184,
   "metadata": {},
   "outputs": [
    {
     "name": "stdout",
     "output_type": "stream",
     "text": [
      "{'a': 1, 'b': 2, 'c': 3}\n",
      "{'a': 10, 'b': 10, 'c': 10}\n",
      "dict_keys(['a', 'b', 'c'])\n",
      "dict_values([1, 2, 3])\n",
      "1\n",
      "dict_items([('a', 1), ('b', 2), ('c', 3)])\n",
      "{'a': 1, 'b': 2, 'c': 3, 'd': 3}\n",
      "{}\n",
      "{'b': 10, 'c': 10}\n",
      "{'b': 10}\n"
     ]
    }
   ],
   "source": [
    "# (1) build dict 创建字典\n",
    "a = ['a', 'b', 'c']\n",
    "b = [1, 2, 3]\n",
    "c = dict(zip(a, b))\n",
    "print(c)\n",
    "d = dict.fromkeys(a, 10)\n",
    "print(d)\n",
    "\n",
    "# (2) extract data 数据获取\n",
    "print(c.keys())\n",
    "print(c.values())\n",
    "print(c.get('a'))\n",
    "print(c.items())\n",
    "\n",
    "# (3) update and append 更新添加\n",
    "c.update({'d': 3})\n",
    "print(c)\n",
    "\n",
    "# (4) delete 删除\n",
    "c.clear()\n",
    "print(c)\n",
    "d.pop('a')\n",
    "print(d)\n",
    "d.popitem()\n",
    "print(d)"
   ]
  }
 ],
 "metadata": {
  "kernelspec": {
   "display_name": "Python 3",
   "language": "python",
   "name": "python3"
  },
  "language_info": {
   "codemirror_mode": {
    "name": "ipython",
    "version": 3
   },
   "file_extension": ".py",
   "mimetype": "text/x-python",
   "name": "python",
   "nbconvert_exporter": "python",
   "pygments_lexer": "ipython3",
   "version": "3.6.5"
  }
 },
 "nbformat": 4,
 "nbformat_minor": 2
}
