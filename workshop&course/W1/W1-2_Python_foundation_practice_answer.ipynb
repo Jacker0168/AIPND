{
 "cells": [
  {
   "cell_type": "markdown",
   "metadata": {},
   "source": [
    "### Practice Answer"
   ]
  },
  {
   "cell_type": "markdown",
   "metadata": {},
   "source": [
    "* **综合题：下面是4个产品(p1, p2, p3, p4)，每个产品对应一组数据，其中第1个整数型数据表示库存量，第2，3，4个数据为浮点型，表示产品在三个不同标准下的评分，第5个数据表示更新状态，True表示继续更新，False表示停止更新，第6个数据格式是string，包含了评价信息。**  \n",
    "**问题1**：对于第一个数据，产品1，2需要每3个进行打包，产品3，4则需要每2个进行打包，问：每个产品需要补充多少库存才能确保打包完成后，仓库中不留产品。  \n",
    "**问题2**：在三个标准下的评分由于录入数据的疏忽，出现了原本应为82.3的分数变为了'8 2.3'，请恢复这些数据，并把值为None的数据用其它有分数数据的平均值进行填补。  \n",
    "**问题3**：对于第5个数据的更新状态，请将True变为1，False变为0  \n",
    "**问题4**：请删去第6个数据评论文字中的非英文与数字部分，并将所有英文转化为小写，将Xm3 形式的字符串中的 X 提取出来，变为浮点型  \n",
    "如：'Good product and 30m^3 very popuLar but hard to use!😊' 变为 ['good', 'product', 'and', 'very', 'popular', 'but', 'hard', 'to', 'use', 30.0]  \n"
   ]
  },
  {
   "cell_type": "code",
   "execution_count": 2,
   "metadata": {},
   "outputs": [],
   "source": [
    "data = {'p1': [32, 98.2, 99.1, '97. 0', True, 'Good product and 30m^3 very popuLar but hard to use!😊'], \n",
    "'p2': (66, None, 96.0, 95.4, True, 'Good product with 10m^3 solid quality!'), \n",
    "'p3': (73, 90.0, '8 2.3', None, True, 'Fair 5m^3 qualiTy...'), \n",
    "'p4': (14, '9 9.0', None, None, False, 'Excellent and 17m^3 easy to use!!')}"
   ]
  },
  {
   "cell_type": "markdown",
   "metadata": {},
   "source": [
    "### Question 1"
   ]
  },
  {
   "cell_type": "code",
   "execution_count": 167,
   "metadata": {},
   "outputs": [
    {
     "name": "stdout",
     "output_type": "stream",
     "text": [
      "p0产品需要补充库存：3i + 1\n",
      "p1产品需要补充库存：3i + 0\n",
      "p2产品需要补充库存：3i + 1\n",
      "p3产品需要补充库存：3i + 0\n"
     ]
    }
   ],
   "source": [
    "# code 1\n",
    "def stock(stocknumber,index):\n",
    "    if stocknumber%index:\n",
    "        add_data = index - stocknumber%index\n",
    "    else:\n",
    "        add_data = 0\n",
    "    return add_data\n",
    "question1_p1 = stock(data['p1'][0],3)\n",
    "question1_p2 = stock(data['p2'][0],3)\n",
    "question1_p3 = stock(data['p3'][0],2)\n",
    "question1_p4 = stock(data['p4'][0],2)\n",
    "\n",
    "for i, j in enumerate(['question1_p' + str(i) for i in range(1, 5)]):\n",
    "    print('p{0}产品需要补充库存：3i + {1}'.format(i, eval(j)))"
   ]
  },
  {
   "cell_type": "code",
   "execution_count": 168,
   "metadata": {
    "scrolled": true
   },
   "outputs": [
    {
     "name": "stdout",
     "output_type": "stream",
     "text": [
      "result 1:\n",
      "\n",
      "PRODUCT 1: 3i + 1\n",
      "PRODUCT 2: 3i\n",
      "PRODUCT 3: 2i + 1\n",
      "PRODUCT 4: 2i\n"
     ]
    }
   ],
   "source": [
    "# code 2\n",
    "inventory = [each[0] for each in list(data.values())]\n",
    "result = list(map(lambda x: '3i + '+str(3 - x%3) if x%3 != 0 else '3i', inventory[0:2])) + \\\n",
    "         list(map(lambda x: '2i + '+str(2 - x%2) if x%2 != 0 else '2i', inventory[2:]))\n",
    "# print\n",
    "print('result 1:\\n')\n",
    "for i in range(len(result)):\n",
    "    print('PRODUCT {0}: {1}'.format(i+1, result[i]))"
   ]
  },
  {
   "cell_type": "code",
   "execution_count": 169,
   "metadata": {},
   "outputs": [
    {
     "name": "stdout",
     "output_type": "stream",
     "text": [
      "result 2:\n",
      "\n",
      "PRODUCT 1: 3i + 1\n",
      "PRODUCT 2: 3i\n",
      "PRODUCT 3: 2i + 2\n",
      "PRODUCT 4: 2i\n"
     ]
    }
   ],
   "source": [
    "# code 3\n",
    "def smod(x, mul):\n",
    "    if x%mul != 0: return '{0}i + {1}'.format(mul, 3 - x%mul)\n",
    "    else: return '{0}i'.format(mul)\n",
    "from functools import partial\n",
    "f2 = partial(smod, mul = 2)\n",
    "f3 = partial(smod, mul = 3)\n",
    "result = list(map(f3, inventory[0:2])) + \\\n",
    "         list(map(f2, inventory[2:]))\n",
    "# print\n",
    "print('result 2:\\n')\n",
    "for i in range(len(result)):\n",
    "    print('PRODUCT {0}: {1}'.format(i+1, result[i]))"
   ]
  },
  {
   "cell_type": "markdown",
   "metadata": {},
   "source": [
    "### Question 2"
   ]
  },
  {
   "cell_type": "code",
   "execution_count": 170,
   "metadata": {},
   "outputs": [
    {
     "name": "stdout",
     "output_type": "stream",
     "text": [
      "[[98.2, 99.1, 97.0], [95.7, 96.0, 95.4], [90.0, 82.3, 86.15], [99.0, 99.0, 99.0]]\n"
     ]
    }
   ],
   "source": [
    "# code 1\n",
    "# fix score & convert None to 0\n",
    "score = [each[1:4] for each in data.values()]\n",
    "new_score = [list(map(lambda x: float(''.join(x.split(' '))) if type(x) == str else 0 if x == None else x , each_scorer)) for each_scorer in score]\n",
    "none_index = [[i for i, each in enumerate(each_) if each == None] for each_ in score]\n",
    "compensate_score = [sum(each_score)/(len(each_score) - len(each_index)) for each_score, each_index in zip(new_score, none_index)]\n",
    "for i, score_index in enumerate(zip(compensate_score, none_index)):\n",
    "    # fix 0 score\n",
    "    if len(score_index[1]) != 0:\n",
    "        for j in score_index[1]:\n",
    "            new_score[i][j] = score_index[0]\n",
    "print(new_score)"
   ]
  },
  {
   "cell_type": "code",
   "execution_count": 171,
   "metadata": {},
   "outputs": [
    {
     "data": {
      "text/plain": [
       "[[98.2, 99.1, 97.0],\n",
       " [95.7, 96.0, 95.4],\n",
       " [90.0, 82.3, 86.15],\n",
       " [99.0, 99.0, 99.0]]"
      ]
     },
     "execution_count": 171,
     "metadata": {},
     "output_type": "execute_result"
    }
   ],
   "source": [
    "# code 2\n",
    "def cleanStr(str_iter):\n",
    "    '''function: clean str; example: \"98. 32\"'''\n",
    "    return list(map(lambda x: float(''.join(x.split(' '))) if type(x) == str else x, str_iter))\n",
    "def mapNone(none_iter):\n",
    "    '''function: map None to 0;'''\n",
    "    return list(map(lambda x: 0 if x == None else x, none_iter))\n",
    "def superIndex(data_iter, target):\n",
    "    '''find all None values index and replace with target'''\n",
    "    return [i for i, each in enumerate(data_iter) if each == target]\n",
    "def compensate(data_iter, comp_index, comp_num):\n",
    "    '''data_iter: original data; comp_index: compensate index of data; comp_num: compensate number of data'''\n",
    "    for i, score_index in enumerate(zip(comp_num, comp_index)):\n",
    "        if len(score_index[1]) != 0:\n",
    "            for j in score_index[1]:\n",
    "                data_iter[i][j] = score_index[0]\n",
    "    return data_iter\n",
    "# extract data\n",
    "score = [each[1:4] for each in data.values()]\n",
    "# map str\n",
    "new_score = [cleanStr(each) for each in score]\n",
    "# map None\n",
    "new_score = [mapNone(each) for each in new_score]\n",
    "# super index\n",
    "super_index = [superIndex(each, None) for each in score]\n",
    "# compensate\n",
    "compensate_score = [sum(each_score)/(len(each_score) - len(each_index)) for each_score, each_index in zip(new_score, super_index)]\n",
    "compensate(new_score, super_index, compensate_score)"
   ]
  },
  {
   "cell_type": "markdown",
   "metadata": {},
   "source": [
    "### Question 3"
   ]
  },
  {
   "cell_type": "code",
   "execution_count": 61,
   "metadata": {
    "scrolled": true
   },
   "outputs": [
    {
     "data": {
      "text/plain": [
       "1"
      ]
     },
     "execution_count": 61,
     "metadata": {},
     "output_type": "execute_result"
    }
   ],
   "source": [
    "int(True)"
   ]
  },
  {
   "cell_type": "code",
   "execution_count": 172,
   "metadata": {
    "scrolled": false
   },
   "outputs": [
    {
     "name": "stdout",
     "output_type": "stream",
     "text": [
      "Transform [1, 1, 1, 0]\n",
      "Transform [1, 1, 1, 0]\n"
     ]
    }
   ],
   "source": [
    "# Question 3\n",
    "update = [each[4] for each in data.values()]\n",
    "print('Transform', list(map(lambda x: 1 if x == True else 0 if x == False else x, update)))\n",
    "print('Transform', list(map(int, update)))"
   ]
  },
  {
   "cell_type": "code",
   "execution_count": 173,
   "metadata": {
    "scrolled": false
   },
   "outputs": [
    {
     "name": "stdout",
     "output_type": "stream",
     "text": [
      "{'p1': [32, 98.2, 99.1, '97. 0', 1, 'Good product and 30m^3 very popuLar but hard to use!😊'], 'p2': [66, None, 96.0, 95.4, 1, 'Good product with 10m^3 solid quality!'], 'p3': [73, 90.0, '8 2.3', None, 1, 'Fair 5m^3 qualiTy...'], 'p4': [14, '9 9.0', None, None, 0, 'Excellent and 17m^3 easy to use!!']}\n"
     ]
    }
   ],
   "source": [
    "cdata = data.copy()\n",
    "for key in cdata.keys():\n",
    "    cdata[key] = list(cdata[key])\n",
    "    cdata[key][4] = int(cdata[key][4])\n",
    "print(cdata)"
   ]
  },
  {
   "cell_type": "markdown",
   "metadata": {},
   "source": [
    "### Question 4"
   ]
  },
  {
   "cell_type": "code",
   "execution_count": 56,
   "metadata": {},
   "outputs": [],
   "source": [
    "data = {'p1': [32, 98.2, 99.1, '97. 0', True, 'Good product and 30m^3 very popuLar but hard to use!😊'], \n",
    "        'p2': (66, None, 96.0, 95.4, True, 'Good product with 10m^3 solid quality!'), \n",
    "        'p3': (73, 90.0, '8 2.3', None, True, 'Fair 5m^3 qualiTy...'), \n",
    "        'p4': (14, '9 9.0', None, None, False, 'Excellent and 17m^3 easy to use!!')}"
   ]
  },
  {
   "cell_type": "code",
   "execution_count": 58,
   "metadata": {},
   "outputs": [
    {
     "name": "stdout",
     "output_type": "stream",
     "text": [
      "Result: \n",
      " [['good', 'product', 'and', 'very', 'popular', 'but', 'hard', 'to', 'use', 3], ['good', 'product', 'with', 'solid', 'quality', 1], ['fair', 'quality', 5], ['excellent', 'and', 'easy', 'to', 'use', 17]]\n"
     ]
    }
   ],
   "source": [
    "# code 1\n",
    "def cleanWord(sen):\n",
    "    return ''.join(list(filter(lambda ch: ch in 'abcdefghijklmnopqrstuvwxyz ABCDEFGHIJKLMNOPQRSTUVWXYZ123456789', sen.lower())))\n",
    "txt = [each[5] for each in data.values()]\n",
    "words = [cleanWord(each).split(' ') for each in txt]\n",
    "bool_words = [list(map(lambda x: x.isalpha(), each)) for each in words]\n",
    "# method 1\n",
    "new_words = [list(filter(lambda x: j[words[i].index(x)],words[i])) for i,j in enumerate(bool_words)]\n",
    "nums = [list(filter(lambda x: not j[words[i].index(x)],words[i])) for i,j in enumerate(bool_words)]\n",
    "new_nums = [list(map(lambda x: int(x[:-2]), each)) for each in nums]\n",
    "\n",
    "new_txt = []\n",
    "for i, j in zip(new_words, new_nums):\n",
    "    new_txt.append(i+j)\n",
    "print('Result: \\n',new_txt)"
   ]
  },
  {
   "cell_type": "code",
   "execution_count": 60,
   "metadata": {
    "scrolled": true
   },
   "outputs": [
    {
     "data": {
      "text/plain": [
       "[1, 3]"
      ]
     },
     "execution_count": 60,
     "metadata": {},
     "output_type": "execute_result"
    }
   ],
   "source": [
    "# code 2\n",
    "from itertools import compress\n",
    "Tlist = [1, 2, 3]\n",
    "Tbool = [True, False, True]\n",
    "NTList = list(compress(Tlist, Tbool))\n",
    "NTList"
   ]
  },
  {
   "cell_type": "code",
   "execution_count": 45,
   "metadata": {},
   "outputs": [
    {
     "name": "stdout",
     "output_type": "stream",
     "text": [
      "{'p1': [32, 98.2, 99.1, '97. 0', True, ['Good', 'product', 'and', 'very', 'popuLar', 'but', 'hard', 'to', 'use', 30.0]], 'p2': [66, None, 96.0, 95.4, True, ['Good', 'product', 'with', 'solid', 'quality', 10.0]], 'p3': [73, 90.0, '8 2.3', None, True, ['Fair', 'qualiTy', 5.0]], 'p4': [14, '9 9.0', None, None, False, ['Excellent', 'and', 'easy', 'to', 'use', 17.0]]}\n"
     ]
    }
   ],
   "source": [
    "# code 3\n",
    "# re module\n",
    "import re\n",
    "for key in data.keys():\n",
    "    data[key] = list(data[key])\n",
    "    data[key][5] = re.sub(\"[^A-Za-z0-9 ]\", \"\", data[key][5]).split(\" \")\n",
    "    for i, each in enumerate(data[key][5]):\n",
    "        temp = re.match(\"[0-9]*m3\", each)\n",
    "        if temp:\n",
    "            temp = temp.group()\n",
    "            ret = temp.rstrip('m3')\n",
    "            data[key][5].append(float(ret))\n",
    "            data[key][5].pop(i)\n",
    "            break\n",
    "print(data)"
   ]
  }
 ],
 "metadata": {
  "kernelspec": {
   "display_name": "Python 3",
   "language": "python",
   "name": "python3"
  },
  "language_info": {
   "codemirror_mode": {
    "name": "ipython",
    "version": 3
   },
   "file_extension": ".py",
   "mimetype": "text/x-python",
   "name": "python",
   "nbconvert_exporter": "python",
   "pygments_lexer": "ipython3",
   "version": "3.6.5"
  }
 },
 "nbformat": 4,
 "nbformat_minor": 2
}
