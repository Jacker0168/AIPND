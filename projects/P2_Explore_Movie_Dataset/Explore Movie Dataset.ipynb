{
 "cells": [
  {
   "cell_type": "markdown",
   "metadata": {},
   "source": [
    "## 探索电影数据集\n",
    "\n",
    "在这个项目中，你将尝试使用所学的知识，使用 `NumPy`、`Pandas`、`matplotlib`、`seaborn` 库中的函数，来对电影数据集进行探索。\n",
    "\n",
    "下载数据集：\n",
    "[TMDb电影数据](https://s3.cn-north-1.amazonaws.com.cn/static-documents/nd101/explore+dataset/tmdb-movies.csv)\n"
   ]
  },
  {
   "cell_type": "markdown",
   "metadata": {},
   "source": [
    "\n",
    "数据集各列名称的含义：\n",
    "<table>\n",
    "<thead><tr><th>列名称</th><th>id</th><th>imdb_id</th><th>popularity</th><th>budget</th><th>revenue</th><th>original_title</th><th>cast</th><th>homepage</th><th>director</th><th>tagline</th><th>keywords</th><th>overview</th><th>runtime</th><th>genres</th><th>production_companies</th><th>release_date</th><th>vote_count</th><th>vote_average</th><th>release_year</th><th>budget_adj</th><th>revenue_adj</th></tr></thead><tbody>\n",
    " <tr><td>含义</td><td>编号</td><td>IMDB 编号</td><td>知名度</td><td>预算</td><td>票房</td><td>名称</td><td>主演</td><td>网站</td><td>导演</td><td>宣传词</td><td>关键词</td><td>简介</td><td>时常</td><td>类别</td><td>发行公司</td><td>发行日期</td><td>投票总数</td><td>投票均值</td><td>发行年份</td><td>预算（调整后）</td><td>票房（调整后）</td></tr>\n",
    "</tbody></table>\n"
   ]
  },
  {
   "cell_type": "markdown",
   "metadata": {},
   "source": [
    "**请注意，你需要提交该报告导出的 `.html`、`.ipynb` 以及 `.py` 文件。**"
   ]
  },
  {
   "cell_type": "markdown",
   "metadata": {
    "collapsed": true
   },
   "source": [
    "\n",
    "\n",
    "---\n",
    "\n",
    "---\n",
    "\n",
    "## 第一节 数据的导入与处理\n",
    "\n",
    "在这一部分，你需要编写代码，使用 Pandas 读取数据，并进行预处理。"
   ]
  },
  {
   "cell_type": "markdown",
   "metadata": {},
   "source": [
    "\n",
    "**任务1.1：** 导入库以及数据\n",
    "\n",
    "1. 载入需要的库 `NumPy`、`Pandas`、`matplotlib`、`seaborn`。\n",
    "2. 利用 `Pandas` 库，读取 `tmdb-movies.csv` 中的数据，保存为 `movie_data`。\n",
    "\n",
    "提示：记得使用 notebook 中的魔法指令 `%matplotlib inline`，否则会导致你接下来无法打印出图像。"
   ]
  },
  {
   "cell_type": "code",
   "execution_count": 1,
   "metadata": {},
   "outputs": [],
   "source": [
    "import numpy as np\n",
    "import pandas as pd\n",
    "import matplotlib.pyplot as plt\n",
    "import seaborn as sns\n",
    "import copy\n",
    "\n",
    "%matplotlib inline"
   ]
  },
  {
   "cell_type": "code",
   "execution_count": 12,
   "metadata": {},
   "outputs": [
    {
     "data": {
      "text/html": [
       "<div>\n",
       "<style scoped>\n",
       "    .dataframe tbody tr th:only-of-type {\n",
       "        vertical-align: middle;\n",
       "    }\n",
       "\n",
       "    .dataframe tbody tr th {\n",
       "        vertical-align: top;\n",
       "    }\n",
       "\n",
       "    .dataframe thead th {\n",
       "        text-align: right;\n",
       "    }\n",
       "</style>\n",
       "<table border=\"1\" class=\"dataframe\">\n",
       "  <thead>\n",
       "    <tr style=\"text-align: right;\">\n",
       "      <th></th>\n",
       "      <th>id</th>\n",
       "      <th>imdb_id</th>\n",
       "      <th>popularity</th>\n",
       "      <th>budget</th>\n",
       "      <th>revenue</th>\n",
       "      <th>original_title</th>\n",
       "      <th>cast</th>\n",
       "      <th>homepage</th>\n",
       "      <th>director</th>\n",
       "      <th>tagline</th>\n",
       "      <th>...</th>\n",
       "      <th>overview</th>\n",
       "      <th>runtime</th>\n",
       "      <th>genres</th>\n",
       "      <th>production_companies</th>\n",
       "      <th>release_date</th>\n",
       "      <th>vote_count</th>\n",
       "      <th>vote_average</th>\n",
       "      <th>release_year</th>\n",
       "      <th>budget_adj</th>\n",
       "      <th>revenue_adj</th>\n",
       "    </tr>\n",
       "  </thead>\n",
       "  <tbody>\n",
       "    <tr>\n",
       "      <th>0</th>\n",
       "      <td>135397</td>\n",
       "      <td>tt0369610</td>\n",
       "      <td>32.985763</td>\n",
       "      <td>150000000</td>\n",
       "      <td>1513528810</td>\n",
       "      <td>Jurassic World</td>\n",
       "      <td>Chris Pratt|Bryce Dallas Howard|Irrfan Khan|Vi...</td>\n",
       "      <td>http://www.jurassicworld.com/</td>\n",
       "      <td>Colin Trevorrow</td>\n",
       "      <td>The park is open.</td>\n",
       "      <td>...</td>\n",
       "      <td>Twenty-two years after the events of Jurassic ...</td>\n",
       "      <td>124</td>\n",
       "      <td>Action|Adventure|Science Fiction|Thriller</td>\n",
       "      <td>Universal Studios|Amblin Entertainment|Legenda...</td>\n",
       "      <td>6/9/15</td>\n",
       "      <td>5562</td>\n",
       "      <td>6.5</td>\n",
       "      <td>2015</td>\n",
       "      <td>1.379999e+08</td>\n",
       "      <td>1.392446e+09</td>\n",
       "    </tr>\n",
       "  </tbody>\n",
       "</table>\n",
       "<p>1 rows × 21 columns</p>\n",
       "</div>"
      ],
      "text/plain": [
       "       id    imdb_id  popularity     budget     revenue  original_title  \\\n",
       "0  135397  tt0369610   32.985763  150000000  1513528810  Jurassic World   \n",
       "\n",
       "                                                cast  \\\n",
       "0  Chris Pratt|Bryce Dallas Howard|Irrfan Khan|Vi...   \n",
       "\n",
       "                        homepage         director            tagline  \\\n",
       "0  http://www.jurassicworld.com/  Colin Trevorrow  The park is open.   \n",
       "\n",
       "       ...                                                overview runtime  \\\n",
       "0      ...       Twenty-two years after the events of Jurassic ...     124   \n",
       "\n",
       "                                      genres  \\\n",
       "0  Action|Adventure|Science Fiction|Thriller   \n",
       "\n",
       "                                production_companies release_date vote_count  \\\n",
       "0  Universal Studios|Amblin Entertainment|Legenda...       6/9/15       5562   \n",
       "\n",
       "   vote_average  release_year    budget_adj   revenue_adj  \n",
       "0           6.5          2015  1.379999e+08  1.392446e+09  \n",
       "\n",
       "[1 rows x 21 columns]"
      ]
     },
     "execution_count": 12,
     "metadata": {},
     "output_type": "execute_result"
    }
   ],
   "source": [
    "movie_data = pd.read_csv('tmdb-movies.csv')\n",
    "movie_data.head(1)"
   ]
  },
  {
   "cell_type": "markdown",
   "metadata": {},
   "source": [
    "---\n",
    "\n",
    "**任务1.2: ** 了解数据\n",
    "\n",
    "你会接触到各种各样的数据表，因此在读取之后，我们有必要通过一些简单的方法，来了解我们数据表是什么样子的。\n",
    "\n",
    "1. 获取数据表的行列，并打印。\n",
    "2. 使用 `.head()`、`.tail()`、`.sample()` 方法，观察、了解数据表的情况。\n",
    "3. 使用 `.dtypes` 属性，来查看各列数据的数据类型。\n",
    "4. 使用 `isnull()` 配合 `.any()` 等方法，来查看各列是否存在空值。\n",
    "5. 使用 `.describe()` 方法，看看数据表中数值型的数据是怎么分布的。\n",
    "\n"
   ]
  },
  {
   "cell_type": "code",
   "execution_count": 16,
   "metadata": {
    "collapsed": true
   },
   "outputs": [
    {
     "name": "stdout",
     "output_type": "stream",
     "text": [
      "[0, 1, 2, 3, 4]\n",
      "\n",
      "Index(['id', 'imdb_id', 'popularity', 'budget', 'revenue'], dtype='object')\n",
      "\n",
      "       id    imdb_id  popularity     budget     revenue  original_title  \\\n",
      "0  135397  tt0369610   32.985763  150000000  1513528810  Jurassic World   \n",
      "\n",
      "                                                cast  \\\n",
      "0  Chris Pratt|Bryce Dallas Howard|Irrfan Khan|Vi...   \n",
      "\n",
      "                        homepage         director            tagline  \\\n",
      "0  http://www.jurassicworld.com/  Colin Trevorrow  The park is open.   \n",
      "\n",
      "       ...                                                overview runtime  \\\n",
      "0      ...       Twenty-two years after the events of Jurassic ...     124   \n",
      "\n",
      "                                      genres  \\\n",
      "0  Action|Adventure|Science Fiction|Thriller   \n",
      "\n",
      "                                production_companies release_date vote_count  \\\n",
      "0  Universal Studios|Amblin Entertainment|Legenda...       6/9/15       5562   \n",
      "\n",
      "   vote_average  release_year    budget_adj   revenue_adj  \n",
      "0           6.5          2015  1.379999e+08  1.392446e+09  \n",
      "\n",
      "[1 rows x 21 columns]\n",
      "\n",
      "          id    imdb_id  popularity  budget  revenue  \\\n",
      "10865  22293  tt0060666    0.035919   19000        0   \n",
      "\n",
      "                 original_title  \\\n",
      "10865  Manos: The Hands of Fate   \n",
      "\n",
      "                                                    cast homepage  \\\n",
      "10865  Harold P. Warren|Tom Neyman|John Reynolds|Dian...      NaN   \n",
      "\n",
      "               director                                       tagline  \\\n",
      "10865  Harold P. Warren  It's Shocking! It's Beyond Your Imagination!   \n",
      "\n",
      "          ...                                                overview runtime  \\\n",
      "10865     ...       A family gets lost on the road and stumbles up...      74   \n",
      "\n",
      "       genres production_companies release_date vote_count  vote_average  \\\n",
      "10865  Horror            Norm-Iris     11/15/66         15           1.5   \n",
      "\n",
      "       release_year     budget_adj  revenue_adj  \n",
      "10865          1966  127642.279154          0.0  \n",
      "\n",
      "[1 rows x 21 columns]\n",
      "\n",
      "          id    imdb_id  popularity    budget    revenue original_title  \\\n",
      "5590  175574  tt1621039    0.732485  55000000  110000000     Free Birds   \n",
      "\n",
      "                                                   cast homepage  \\\n",
      "5590  Owen Wilson|Woody Harrelson|Amy Poehler|George...      NaN   \n",
      "\n",
      "           director                  tagline      ...       \\\n",
      "5590  Jimmy Hayward  Hang On To Your Nuggets      ...        \n",
      "\n",
      "                                               overview runtime  \\\n",
      "5590  In this irreverent, hilarious, adventurous bud...      91   \n",
      "\n",
      "                       genres                       production_companies  \\\n",
      "5590  Animation|Comedy|Family  Reel FX Creative Studios|Relativity Media   \n",
      "\n",
      "     release_date vote_count  vote_average  release_year    budget_adj  \\\n",
      "5590     10/30/13        185           5.8          2013  5.148183e+07   \n",
      "\n",
      "       revenue_adj  \n",
      "5590  1.029637e+08  \n",
      "\n",
      "[1 rows x 21 columns]\n",
      "\n",
      "id                        int64\n",
      "imdb_id                  object\n",
      "popularity              float64\n",
      "budget                    int64\n",
      "revenue                   int64\n",
      "original_title           object\n",
      "cast                     object\n",
      "homepage                 object\n",
      "director                 object\n",
      "tagline                  object\n",
      "keywords                 object\n",
      "overview                 object\n",
      "runtime                   int64\n",
      "genres                   object\n",
      "production_companies     object\n",
      "release_date             object\n",
      "vote_count                int64\n",
      "vote_average            float64\n",
      "release_year              int64\n",
      "budget_adj              float64\n",
      "revenue_adj             float64\n",
      "dtype: object\n",
      "\n",
      "id                      False\n",
      "imdb_id                  True\n",
      "popularity              False\n",
      "budget                  False\n",
      "revenue                 False\n",
      "original_title          False\n",
      "cast                     True\n",
      "homepage                 True\n",
      "director                 True\n",
      "tagline                  True\n",
      "keywords                 True\n",
      "overview                 True\n",
      "runtime                 False\n",
      "genres                   True\n",
      "production_companies     True\n",
      "release_date            False\n",
      "vote_count              False\n",
      "vote_average            False\n",
      "release_year            False\n",
      "budget_adj              False\n",
      "revenue_adj             False\n",
      "dtype: bool\n",
      "\n",
      "                  id    popularity        budget       revenue       runtime  \\\n",
      "count   10866.000000  10866.000000  1.086600e+04  1.086600e+04  10866.000000   \n",
      "mean    66064.177434      0.646441  1.462570e+07  3.982332e+07    102.070863   \n",
      "std     92130.136561      1.000185  3.091321e+07  1.170035e+08     31.381405   \n",
      "min         5.000000      0.000065  0.000000e+00  0.000000e+00      0.000000   \n",
      "25%     10596.250000      0.207583  0.000000e+00  0.000000e+00     90.000000   \n",
      "50%     20669.000000      0.383856  0.000000e+00  0.000000e+00     99.000000   \n",
      "75%     75610.000000      0.713817  1.500000e+07  2.400000e+07    111.000000   \n",
      "max    417859.000000     32.985763  4.250000e+08  2.781506e+09    900.000000   \n",
      "\n",
      "         vote_count  vote_average  release_year    budget_adj   revenue_adj  \n",
      "count  10866.000000  10866.000000  10866.000000  1.086600e+04  1.086600e+04  \n",
      "mean     217.389748      5.974922   2001.322658  1.755104e+07  5.136436e+07  \n",
      "std      575.619058      0.935142     12.812941  3.430616e+07  1.446325e+08  \n",
      "min       10.000000      1.500000   1960.000000  0.000000e+00  0.000000e+00  \n",
      "25%       17.000000      5.400000   1995.000000  0.000000e+00  0.000000e+00  \n",
      "50%       38.000000      6.000000   2006.000000  0.000000e+00  0.000000e+00  \n",
      "75%      145.750000      6.600000   2011.000000  2.085325e+07  3.369710e+07  \n",
      "max     9767.000000      9.200000   2015.000000  4.250000e+08  2.827124e+09  \n"
     ]
    }
   ],
   "source": [
    "# question 1\n",
    "print(list(movie_data.index[:5]))\n",
    "print()\n",
    "print(movie_data.columns[:5])\n",
    "print()\n",
    "# question 2\n",
    "print(movie_data.head(1))\n",
    "print()\n",
    "print(movie_data.tail(1))\n",
    "print()\n",
    "print(movie_data.sample(1))\n",
    "print()\n",
    "# question 3\n",
    "print(movie_data.dtypes)\n",
    "print()\n",
    "# question 4\n",
    "print(movie_data.isnull().any())\n",
    "print()\n",
    "# question 4\n",
    "print(movie_data.describe())"
   ]
  },
  {
   "cell_type": "markdown",
   "metadata": {},
   "source": [
    "---\n",
    "\n",
    "**任务1.3: ** 清理数据\n",
    "\n",
    "在真实的工作场景中，数据处理往往是最为费时费力的环节。但是幸运的是，我们提供给大家的 tmdb 数据集非常的「干净」，不需要大家做特别多的数据清洗以及处理工作。在这一步中，你的核心的工作主要是对数据表中的空值进行处理。你可以使用 `.fillna()` 来填补空值，当然也可以使用 `.dropna()` 来丢弃数据表中包含空值的某些行或者列。\n",
    "\n",
    "任务：使用适当的方法来清理空值，并将得到的数据保存。"
   ]
  },
  {
   "cell_type": "code",
   "execution_count": 25,
   "metadata": {},
   "outputs": [],
   "source": [
    "edata = copy.deepcopy(movie_data)\n",
    "drop_list = list(set(edata.index) - set(edata['imdb_id'].dropna().index))\n",
    "edata.drop(index = drop_list, inplace = True)\n",
    "edata.fillna(value = 'No content', inplace = True)\n",
    "edata.index = range(len(edata))"
   ]
  },
  {
   "cell_type": "code",
   "execution_count": 26,
   "metadata": {
    "collapsed": true
   },
   "outputs": [
    {
     "name": "stdout",
     "output_type": "stream",
     "text": [
      "id                      False\n",
      "imdb_id                 False\n",
      "popularity              False\n",
      "budget                  False\n",
      "revenue                 False\n",
      "original_title          False\n",
      "cast                    False\n",
      "homepage                False\n",
      "director                False\n",
      "tagline                 False\n",
      "keywords                False\n",
      "overview                False\n",
      "runtime                 False\n",
      "genres                  False\n",
      "production_companies    False\n",
      "release_date            False\n",
      "vote_count              False\n",
      "vote_average            False\n",
      "release_year            False\n",
      "budget_adj              False\n",
      "revenue_adj             False\n",
      "dtype: bool\n"
     ]
    }
   ],
   "source": [
    "print(edata.isnull().any())"
   ]
  },
  {
   "cell_type": "markdown",
   "metadata": {},
   "source": [
    "---\n",
    "\n",
    "---\n",
    "\n",
    "## 第二节 根据指定要求读取数据\n",
    "\n",
    "\n",
    "相比 Excel 等数据分析软件，Pandas 的一大特长在于，能够轻松地基于复杂的逻辑选择合适的数据。因此，如何根据指定的要求，从数据表当获取适当的数据，是使用 Pandas 中非常重要的技能，也是本节重点考察大家的内容。\n",
    "\n"
   ]
  },
  {
   "cell_type": "markdown",
   "metadata": {},
   "source": [
    "---\n",
    "\n",
    "**任务2.1: ** 简单读取\n",
    "\n",
    "1. 读取数据表中名为 `id`、`popularity`、`budget`、`runtime`、`vote_average` 列的数据。\n",
    "2. 读取数据表中前1～20行以及48、49行的数据。\n",
    "3. 读取数据表中第50～60行的 `popularity` 那一列的数据。\n",
    "\n",
    "要求：每一个语句只能用一行代码实现。"
   ]
  },
  {
   "cell_type": "code",
   "execution_count": 45,
   "metadata": {},
   "outputs": [
    {
     "data": {
      "text/plain": [
       "[1, 2, 3, 4, 5, 6, 7, 8, 9, 10, 11, 12, 13, 14, 15, 16, 17, 18, 19, 20, 48, 49]"
      ]
     },
     "execution_count": 45,
     "metadata": {},
     "output_type": "execute_result"
    }
   ],
   "source": []
  },
  {
   "cell_type": "code",
   "execution_count": 46,
   "metadata": {
    "collapsed": true
   },
   "outputs": [
    {
     "name": "stdout",
     "output_type": "stream",
     "text": [
      "       id  popularity     budget  runtime  vote_average\n",
      "0  135397   32.985763  150000000      124           6.5\n",
      "        id    imdb_id  popularity     budget     revenue  \\\n",
      "1    76341  tt1392190   28.419936  150000000   378436354   \n",
      "2   262500  tt2908446   13.112507  110000000   295238201   \n",
      "3   140607  tt2488496   11.173104  200000000  2068178225   \n",
      "4   168259  tt2820852    9.335014  190000000  1506249360   \n",
      "5   281957  tt1663202    9.110700  135000000   532950503   \n",
      "6    87101  tt1340138    8.654359  155000000   440603537   \n",
      "7   286217  tt3659388    7.667400  108000000   595380321   \n",
      "8   211672  tt2293640    7.404165   74000000  1156730962   \n",
      "9   150540  tt2096673    6.326804  175000000   853708609   \n",
      "10  206647  tt2379713    6.200282  245000000   880674609   \n",
      "11   76757  tt1617661    6.189369  176000003   183987723   \n",
      "12  264660  tt0470752    6.118847   15000000    36869414   \n",
      "13  257344  tt2120120    5.984995   88000000   243637091   \n",
      "14   99861  tt2395427    5.944927  280000000  1405035767   \n",
      "15  273248  tt3460252    5.898400   44000000   155760117   \n",
      "16  260346  tt2446042    5.749758   48000000   325771424   \n",
      "17  102899  tt0478970    5.573184  130000000   518602163   \n",
      "18  150689  tt1661199    5.556818   95000000   542351353   \n",
      "19  131634  tt1951266    5.476958  160000000   650523427   \n",
      "20  158852  tt1964418    5.462138  190000000   209035668   \n",
      "48  265208  tt2231253    2.932340   30000000           0   \n",
      "49  254320  tt3464902    2.885126    4000000     9064511   \n",
      "\n",
      "                           original_title  \\\n",
      "1                      Mad Max: Fury Road   \n",
      "2                               Insurgent   \n",
      "3            Star Wars: The Force Awakens   \n",
      "4                               Furious 7   \n",
      "5                            The Revenant   \n",
      "6                      Terminator Genisys   \n",
      "7                             The Martian   \n",
      "8                                 Minions   \n",
      "9                              Inside Out   \n",
      "10                                Spectre   \n",
      "11                      Jupiter Ascending   \n",
      "12                             Ex Machina   \n",
      "13                                 Pixels   \n",
      "14                Avengers: Age of Ultron   \n",
      "15                      The Hateful Eight   \n",
      "16                                Taken 3   \n",
      "17                                Ant-Man   \n",
      "18                             Cinderella   \n",
      "19  The Hunger Games: Mockingjay - Part 2   \n",
      "20                           Tomorrowland   \n",
      "48                              Wild Card   \n",
      "49                            The Lobster   \n",
      "\n",
      "                                                 cast  \\\n",
      "1   Tom Hardy|Charlize Theron|Hugh Keays-Byrne|Nic...   \n",
      "2   Shailene Woodley|Theo James|Kate Winslet|Ansel...   \n",
      "3   Harrison Ford|Mark Hamill|Carrie Fisher|Adam D...   \n",
      "4   Vin Diesel|Paul Walker|Jason Statham|Michelle ...   \n",
      "5   Leonardo DiCaprio|Tom Hardy|Will Poulter|Domhn...   \n",
      "6   Arnold Schwarzenegger|Jason Clarke|Emilia Clar...   \n",
      "7   Matt Damon|Jessica Chastain|Kristen Wiig|Jeff ...   \n",
      "8   Sandra Bullock|Jon Hamm|Michael Keaton|Allison...   \n",
      "9   Amy Poehler|Phyllis Smith|Richard Kind|Bill Ha...   \n",
      "10  Daniel Craig|Christoph Waltz|LÃ©a Seydoux|Ralp...   \n",
      "11  Mila Kunis|Channing Tatum|Sean Bean|Eddie Redm...   \n",
      "12  Domhnall Gleeson|Alicia Vikander|Oscar Isaac|S...   \n",
      "13  Adam Sandler|Michelle Monaghan|Peter Dinklage|...   \n",
      "14  Robert Downey Jr.|Chris Hemsworth|Mark Ruffalo...   \n",
      "15  Samuel L. Jackson|Kurt Russell|Jennifer Jason ...   \n",
      "16  Liam Neeson|Forest Whitaker|Maggie Grace|Famke...   \n",
      "17  Paul Rudd|Michael Douglas|Evangeline Lilly|Cor...   \n",
      "18  Lily James|Cate Blanchett|Richard Madden|Helen...   \n",
      "19  Jennifer Lawrence|Josh Hutcherson|Liam Hemswor...   \n",
      "20  Britt Robertson|George Clooney|Raffey Cassidy|...   \n",
      "48  Jason Statham|Michael Angarano|Milo Ventimigli...   \n",
      "49  Colin Farrell|Rachel Weisz|LÃ©a Seydoux|John C...   \n",
      "\n",
      "                                             homepage  \\\n",
      "1                         http://www.madmaxmovie.com/   \n",
      "2      http://www.thedivergentseries.movie/#insurgent   \n",
      "3   http://www.starwars.com/films/star-wars-episod...   \n",
      "4                            http://www.furious7.com/   \n",
      "5        http://www.foxmovies.com/movies/the-revenant   \n",
      "6                     http://www.terminatormovie.com/   \n",
      "7         http://www.foxmovies.com/movies/the-martian   \n",
      "8                        http://www.minionsmovie.com/   \n",
      "9                 http://movies.disney.com/inside-out   \n",
      "10        http://www.sonypictures.com/movies/spectre/   \n",
      "11                    http://www.jupiterascending.com   \n",
      "12                        http://exmachina-movie.com/   \n",
      "13                       http://www.pixels-movie.com/   \n",
      "14  http://marvel.com/movies/movie/193/avengers_ag...   \n",
      "15                        http://thehatefuleight.com/   \n",
      "16                        http://www.taken3movie.com/   \n",
      "17         http://marvel.com/movies/movie/180/ant-man   \n",
      "18                                         No content   \n",
      "19                   http://www.thehungergames.movie/   \n",
      "20              http://movies.disney.com/tomorrowland   \n",
      "48                                         No content   \n",
      "49  http://tickets.picturehouseentertainment.co.uk...   \n",
      "\n",
      "                          director  \\\n",
      "1                    George Miller   \n",
      "2                 Robert Schwentke   \n",
      "3                      J.J. Abrams   \n",
      "4                        James Wan   \n",
      "5   Alejandro GonzÃ¡lez IÃ±Ã¡rritu   \n",
      "6                      Alan Taylor   \n",
      "7                     Ridley Scott   \n",
      "8         Kyle Balda|Pierre Coffin   \n",
      "9                      Pete Docter   \n",
      "10                      Sam Mendes   \n",
      "11  Lana Wachowski|Lilly Wachowski   \n",
      "12                    Alex Garland   \n",
      "13                  Chris Columbus   \n",
      "14                     Joss Whedon   \n",
      "15               Quentin Tarantino   \n",
      "16                 Olivier Megaton   \n",
      "17                     Peyton Reed   \n",
      "18                 Kenneth Branagh   \n",
      "19                Francis Lawrence   \n",
      "20                       Brad Bird   \n",
      "48                      Simon West   \n",
      "49                Yorgos Lanthimos   \n",
      "\n",
      "                                              tagline     ...     runtime  \\\n",
      "1                                  What a Lovely Day.     ...         120   \n",
      "2                          One Choice Can Destroy You     ...         119   \n",
      "3                       Every generation has a story.     ...         136   \n",
      "4                                 Vengeance Hits Home     ...         137   \n",
      "5     (n. One who has returned, as if from the dead.)     ...         156   \n",
      "6                                    Reset the future     ...         125   \n",
      "7                                      Bring Him Home     ...         141   \n",
      "8        Before Gru, they had a history of bad bosses     ...          91   \n",
      "9            Meet the little voices inside your head.     ...          94   \n",
      "10                              A Plan No One Escapes     ...         148   \n",
      "11                              Expand your universe.     ...         124   \n",
      "12  There is nothing more human than the will to s...     ...         108   \n",
      "13                                           Game On.     ...         105   \n",
      "14                                A New Age Has Come.     ...         141   \n",
      "15   No one comes up here without a damn good reason.     ...         167   \n",
      "16                                       It Ends Here     ...         109   \n",
      "17                        Heroes Don't Get Any Bigger     ...         115   \n",
      "18                    Midnight is just the beginning.     ...         112   \n",
      "19                        The fire will burn forever.     ...         136   \n",
      "20       Imagine a world where nothing is impossible.     ...         130   \n",
      "48        Never bet against a man with a killer hand.     ...          92   \n",
      "49                    An unconventional love story...     ...         118   \n",
      "\n",
      "                                             genres  \\\n",
      "1         Action|Adventure|Science Fiction|Thriller   \n",
      "2                Adventure|Science Fiction|Thriller   \n",
      "3          Action|Adventure|Science Fiction|Fantasy   \n",
      "4                             Action|Crime|Thriller   \n",
      "5                  Western|Drama|Adventure|Thriller   \n",
      "6         Science Fiction|Action|Thriller|Adventure   \n",
      "7                   Drama|Adventure|Science Fiction   \n",
      "8                 Family|Animation|Adventure|Comedy   \n",
      "9                           Comedy|Animation|Family   \n",
      "10                           Action|Adventure|Crime   \n",
      "11         Science Fiction|Fantasy|Action|Adventure   \n",
      "12                            Drama|Science Fiction   \n",
      "13                    Action|Comedy|Science Fiction   \n",
      "14                 Action|Adventure|Science Fiction   \n",
      "15                      Crime|Drama|Mystery|Western   \n",
      "16                            Crime|Action|Thriller   \n",
      "17                 Science Fiction|Action|Adventure   \n",
      "18                     Romance|Fantasy|Family|Drama   \n",
      "19                    War|Adventure|Science Fiction   \n",
      "20  Action|Family|Science Fiction|Adventure|Mystery   \n",
      "48                             Thriller|Crime|Drama   \n",
      "49    Thriller|Comedy|Drama|Romance|Science Fiction   \n",
      "\n",
      "                                 production_companies release_date vote_count  \\\n",
      "1   Village Roadshow Pictures|Kennedy Miller Produ...      5/13/15       6185   \n",
      "2   Summit Entertainment|Mandeville Films|Red Wago...      3/18/15       2480   \n",
      "3           Lucasfilm|Truenorth Productions|Bad Robot     12/15/15       5292   \n",
      "4   Universal Pictures|Original Film|Media Rights ...       4/1/15       2947   \n",
      "5   Regency Enterprises|Appian Way|CatchPlay|Anony...     12/25/15       3929   \n",
      "6             Paramount Pictures|Skydance Productions      6/23/15       2598   \n",
      "7   Twentieth Century Fox Film Corporation|Scott F...      9/30/15       4572   \n",
      "8       Universal Pictures|Illumination Entertainment      6/17/15       2893   \n",
      "9   Walt Disney Pictures|Pixar Animation Studios|W...       6/9/15       3935   \n",
      "10                       Columbia Pictures|Danjaq|B24     10/26/15       3254   \n",
      "11  Village Roadshow Pictures|Dune Entertainment|A...       2/4/15       1937   \n",
      "12  DNA Films|Universal Pictures International (UP...      1/21/15       2854   \n",
      "13        Columbia Pictures|Happy Madison Productions      7/16/15       1575   \n",
      "14  Marvel Studios|Prime Focus|Revolution Sun Studios      4/22/15       4304   \n",
      "15  Double Feature Films|The Weinstein Company|Fil...     12/25/15       2389   \n",
      "16  Twentieth Century Fox Film Corporation|M6 Film...       1/1/15       1578   \n",
      "17                                     Marvel Studios      7/14/15       3779   \n",
      "18  Walt Disney Pictures|Genre Films|Beagle Pug Fi...      3/12/15       1495   \n",
      "19  Studio Babelsberg|StudioCanal|Lionsgate|Walt D...     11/18/15       2380   \n",
      "20                  Walt Disney Pictures|Babieka|A113      5/19/15       1899   \n",
      "48  Current Entertainment|Lionsgate|Sierra / Affin...      1/14/15        481   \n",
      "49  Haut et Court|Eurimages|Lemming Film|Element P...      10/8/15        638   \n",
      "\n",
      "   vote_average  release_year    budget_adj   revenue_adj      return  \n",
      "1           7.1          2015  1.379999e+08  3.481613e+08   228436354  \n",
      "2           6.3          2015  1.012000e+08  2.716190e+08   185238201  \n",
      "3           7.5          2015  1.839999e+08  1.902723e+09  1868178225  \n",
      "4           7.3          2015  1.747999e+08  1.385749e+09  1316249360  \n",
      "5           7.2          2015  1.241999e+08  4.903142e+08   397950503  \n",
      "6           5.8          2015  1.425999e+08  4.053551e+08   285603537  \n",
      "7           7.6          2015  9.935996e+07  5.477497e+08   487380321  \n",
      "8           6.5          2015  6.807997e+07  1.064192e+09  1082730962  \n",
      "9           8.0          2015  1.609999e+08  7.854116e+08   678708609  \n",
      "10          6.2          2015  2.253999e+08  8.102203e+08   635674609  \n",
      "11          5.2          2015  1.619199e+08  1.692686e+08     7987720  \n",
      "12          7.6          2015  1.379999e+07  3.391985e+07    21869414  \n",
      "13          5.8          2015  8.095996e+07  2.241460e+08   155637091  \n",
      "14          7.4          2015  2.575999e+08  1.292632e+09  1125035767  \n",
      "15          7.4          2015  4.047998e+07  1.432992e+08   111760117  \n",
      "16          6.1          2015  4.415998e+07  2.997096e+08   277771424  \n",
      "17          7.0          2015  1.195999e+08  4.771138e+08   388602163  \n",
      "18          6.8          2015  8.739996e+07  4.989630e+08   447351353  \n",
      "19          6.5          2015  1.471999e+08  5.984813e+08   490523427  \n",
      "20          6.2          2015  1.747999e+08  1.923127e+08    19035668  \n",
      "48          5.3          2015  2.759999e+07  0.000000e+00   -30000000  \n",
      "49          6.6          2015  3.679998e+06  8.339346e+06     5064511  \n",
      "\n",
      "[22 rows x 22 columns]\n"
     ]
    },
    {
     "data": {
      "text/plain": [
       "50    2.883233\n",
       "51    2.814802\n",
       "52    2.798017\n",
       "53    2.793297\n",
       "54    2.614499\n",
       "55    2.584264\n",
       "56    2.578919\n",
       "57    2.575711\n",
       "58    2.557859\n",
       "59    2.550747\n",
       "Name: popularity, dtype: float64"
      ]
     },
     "execution_count": 46,
     "metadata": {},
     "output_type": "execute_result"
    }
   ],
   "source": [
    "# question 1\n",
    "print(edata[['id', 'popularity', 'budget', 'runtime', 'vote_average']].head(1))\n",
    "\n",
    "# question 2\n",
    "print(edata.iloc[list(np.arange(1,21)) + [48, 49], :])\n",
    "\n",
    "# question 3\n",
    "edata['popularity'].iloc[50: 60]"
   ]
  },
  {
   "cell_type": "markdown",
   "metadata": {},
   "source": [
    "---\n",
    "\n",
    "**任务2.2: **逻辑读取（Logical Indexing）\n",
    "\n",
    "1. 读取数据表中 **`popularity` 大于5** 的所有数据。\n",
    "2. 读取数据表中 **`popularity` 大于5** 的所有数据且**发行年份在1996年之后**的所有数据。\n",
    "\n",
    "提示：Pandas 中的逻辑运算符如 `&`、`|`，分别代表`且`以及`或`。\n",
    "\n",
    "要求：请使用 Logical Indexing实现。"
   ]
  },
  {
   "cell_type": "code",
   "execution_count": 47,
   "metadata": {},
   "outputs": [],
   "source": [
    "edata_pop_greater5 = edata[edata['popularity'] > 5]\n",
    "edata_pop_mix = edata[(edata['popularity'] > 5) & (edata['release_year'] > 1996)]"
   ]
  },
  {
   "cell_type": "markdown",
   "metadata": {},
   "source": [
    "---\n",
    "\n",
    "**任务2.3: **分组读取\n",
    "\n",
    "1. 对 `release_year` 进行分组，使用 [`.agg`](http://pandas.pydata.org/pandas-docs/version/0.22/generated/pandas.core.groupby.DataFrameGroupBy.agg.html) 获得 `revenue` 的均值。\n",
    "2. 对 `director` 进行分组，使用 [`.agg`](http://pandas.pydata.org/pandas-docs/version/0.22/generated/pandas.core.groupby.DataFrameGroupBy.agg.html) 获得 `popularity` 的均值，从高到低排列。\n",
    "\n",
    "要求：使用 `Groupby` 命令实现。"
   ]
  },
  {
   "cell_type": "code",
   "execution_count": 48,
   "metadata": {},
   "outputs": [],
   "source": [
    "group_release_year_revenue_mean = edata.groupby('release_year').revenue.agg(np.mean)\n",
    "group_director_popularity_mean = edata.groupby('director').popularity.agg(np.mean)\n",
    "group_director_popularity_mean = group_director_popularity_mean.sort_values(ascending = False)"
   ]
  },
  {
   "cell_type": "markdown",
   "metadata": {},
   "source": [
    "---\n",
    "\n",
    "---\n",
    "\n",
    "## 第三节 绘图与可视化\n",
    "\n",
    "接着你要尝试对你的数据进行图像的绘制以及可视化。这一节最重要的是，你能够选择合适的图像，对特定的可视化目标进行可视化。所谓可视化的目标，是你希望从可视化的过程中，观察到怎样的信息以及变化。例如，观察票房随着时间的变化、哪个导演最受欢迎等。\n",
    "\n",
    "<table>\n",
    "<thead><tr><th>可视化的目标</th><th>可以使用的图像</th></tr></thead><tbody>\n",
    " <tr><td>表示某一属性数据的分布</td><td>饼图、直方图、散点图</td></tr>\n",
    " <tr><td>表示某一属性数据随着某一个变量变化</td><td>条形图、折线图、热力图</td></tr>\n",
    " <tr><td>比较多个属性的数据之间的关系</td><td>散点图、小提琴图、堆积条形图、堆积折线图</td></tr>\n",
    "</tbody></table>\n",
    "\n",
    "在这个部分，你需要根据题目中问题，选择适当的可视化图像进行绘制，并进行相应的分析。对于选做题，他们具有一定的难度，你可以尝试挑战一下～"
   ]
  },
  {
   "cell_type": "markdown",
   "metadata": {},
   "source": [
    "**任务3.1：**对 `popularity` 最高的20名电影绘制其 `popularity` 值。"
   ]
  },
  {
   "cell_type": "code",
   "execution_count": 49,
   "metadata": {},
   "outputs": [],
   "source": [
    "top_pop = edata.sort_values(by = 'popularity', ascending = False)['popularity'].iloc[:20]\n",
    "top_title = edata.sort_values(by = 'popularity', ascending = False)['original_title'].iloc[:20]\n",
    "top_pop.index = top_title"
   ]
  },
  {
   "cell_type": "code",
   "execution_count": 50,
   "metadata": {},
   "outputs": [
    {
     "data": {
      "text/plain": [
       "<matplotlib.axes._subplots.AxesSubplot at 0xdcc5c88>"
      ]
     },
     "execution_count": 50,
     "metadata": {},
     "output_type": "execute_result"
    },
    {
     "data": {
      "image/png": "[encoded data removed]",
      "text/plain": [
       "<Figure size 1152x432 with 1 Axes>"
      ]
     },
     "metadata": {},
     "output_type": "display_data"
    }
   ],
   "source": [
    "top_pop.plot(figsize = (16, 6), kind = 'bar', title = 'Top 20 popularity graph', legend = True)"
   ]
  },
  {
   "cell_type": "markdown",
   "metadata": {},
   "source": [
    "---\n",
    "**任务3.2：**分析电影净利润（票房-成本）随着年份变化的情况，并简单进行分析。"
   ]
  },
  {
   "cell_type": "code",
   "execution_count": 33,
   "metadata": {},
   "outputs": [
    {
     "data": {
      "text/plain": [
       "<matplotlib.axes._subplots.AxesSubplot at 0x548fef0>"
      ]
     },
     "execution_count": 33,
     "metadata": {},
     "output_type": "execute_result"
    },
    {
     "data": {
      "image/png": "[encoded data removed]",
      "text/plain": [
       "<Figure size 1152x432 with 1 Axes>"
      ]
     },
     "metadata": {},
     "output_type": "display_data"
    }
   ],
   "source": [
    "edata['return'] = edata['revenue'] - edata['budget']\n",
    "edata.groupby('release_year')['return'].sum().plot(figsize = (16, 6), legend = True, title = 'Return change with year')"
   ]
  },
  {
   "cell_type": "markdown",
   "metadata": {},
   "source": [
    "分析：电影净利润随着年份整体呈增长趋势，2000年以前缓慢增长，2000年后快速增长并在2015年达到最高"
   ]
  },
  {
   "cell_type": "markdown",
   "metadata": {},
   "source": [
    "---\n",
    "\n",
    "**[选做]任务3.3：**选择最多产的10位导演（电影数量最多的），绘制他们排行前3的三部电影的票房情况，并简要进行分析。"
   ]
  },
  {
   "cell_type": "code",
   "execution_count": null,
   "metadata": {},
   "outputs": [],
   "source": []
  },
  {
   "cell_type": "markdown",
   "metadata": {},
   "source": [
    "---\n",
    "\n",
    "**[选做]任务3.4：**分析1968年~2015年六月电影的数量的变化。"
   ]
  },
  {
   "cell_type": "code",
   "execution_count": null,
   "metadata": {
    "collapsed": true
   },
   "outputs": [],
   "source": []
  },
  {
   "cell_type": "markdown",
   "metadata": {},
   "source": [
    "---\n",
    "\n",
    "**[选做]任务3.5：**分析1968年~2015年六月电影 `Comedy` 和 `Drama` 两类电影的数量的变化。"
   ]
  },
  {
   "cell_type": "code",
   "execution_count": null,
   "metadata": {
    "collapsed": true
   },
   "outputs": [],
   "source": []
  },
  {
   "cell_type": "markdown",
   "metadata": {},
   "source": [
    "> 注意: 当你写完了所有的代码，并且回答了所有的问题。你就可以把你的 iPython Notebook 导出成 HTML 文件。你可以在菜单栏，这样导出**File -> Download as -> HTML (.html)、Python (.py)** 把导出的 HTML、python文件 和这个 iPython notebook 一起提交给审阅者。"
   ]
  }
 ],
 "metadata": {
  "kernelspec": {
   "display_name": "Python 3",
   "language": "python",
   "name": "python3"
  },
  "language_info": {
   "codemirror_mode": {
    "name": "ipython",
    "version": 3
   },
   "file_extension": ".py",
   "mimetype": "text/x-python",
   "name": "python",
   "nbconvert_exporter": "python",
   "pygments_lexer": "ipython3",
   "version": "3.6.5"
  }
 },
 "nbformat": 4,
 "nbformat_minor": 2
}
